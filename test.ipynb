{
 "cells": [
  {
   "cell_type": "markdown",
   "metadata": {
    "toc": true
   },
   "source": [
    "<h1>Table of Contents<span class=\"tocSkip\"></span></h1>\n",
    "<div class=\"toc\"><ul class=\"toc-item\"></ul></div>"
   ]
  },
  {
   "cell_type": "code",
   "execution_count": 6,
   "metadata": {
    "ExecuteTime": {
     "end_time": "2020-09-21T22:08:39.718231Z",
     "start_time": "2020-09-21T22:08:39.674221Z"
    }
   },
   "outputs": [],
   "source": [
    "\n"
   ]
  },
  {
   "cell_type": "code",
   "execution_count": 7,
   "metadata": {
    "ExecuteTime": {
     "end_time": "2020-09-21T22:08:55.311355Z",
     "start_time": "2020-09-21T22:08:55.308220Z"
    }
   },
   "outputs": [],
   "source": [
    "ndf = df.select_dtypes('number')"
   ]
  },
  {
   "cell_type": "code",
   "execution_count": 8,
   "metadata": {
    "ExecuteTime": {
     "end_time": "2020-09-21T22:08:58.725773Z",
     "start_time": "2020-09-21T22:08:58.703777Z"
    }
   },
   "outputs": [
    {
     "data": {
      "text/html": [
       "<div>\n",
       "<style scoped>\n",
       "    .dataframe tbody tr th:only-of-type {\n",
       "        vertical-align: middle;\n",
       "    }\n",
       "\n",
       "    .dataframe tbody tr th {\n",
       "        vertical-align: top;\n",
       "    }\n",
       "\n",
       "    .dataframe thead th {\n",
       "        text-align: right;\n",
       "    }\n",
       "</style>\n",
       "<table border=\"1\" class=\"dataframe\">\n",
       "  <thead>\n",
       "    <tr style=\"text-align: right;\">\n",
       "      <th></th>\n",
       "      <th>id</th>\n",
       "      <th>price</th>\n",
       "      <th>bedrooms</th>\n",
       "      <th>bathrooms</th>\n",
       "      <th>sqft_living</th>\n",
       "      <th>sqft_lot</th>\n",
       "      <th>floors</th>\n",
       "      <th>waterfront</th>\n",
       "      <th>view</th>\n",
       "      <th>condition</th>\n",
       "      <th>grade</th>\n",
       "      <th>sqft_above</th>\n",
       "      <th>yr_built</th>\n",
       "      <th>yr_renovated</th>\n",
       "      <th>zipcode</th>\n",
       "      <th>lat</th>\n",
       "      <th>long</th>\n",
       "      <th>sqft_living15</th>\n",
       "      <th>sqft_lot15</th>\n",
       "    </tr>\n",
       "  </thead>\n",
       "  <tbody>\n",
       "    <tr>\n",
       "      <th>0</th>\n",
       "      <td>7129300520</td>\n",
       "      <td>221900.000</td>\n",
       "      <td>3</td>\n",
       "      <td>1.000</td>\n",
       "      <td>1180</td>\n",
       "      <td>5650</td>\n",
       "      <td>1.000</td>\n",
       "      <td>nan</td>\n",
       "      <td>0.000</td>\n",
       "      <td>3</td>\n",
       "      <td>7</td>\n",
       "      <td>1180</td>\n",
       "      <td>1955</td>\n",
       "      <td>0.000</td>\n",
       "      <td>98178</td>\n",
       "      <td>47.511</td>\n",
       "      <td>-122.257</td>\n",
       "      <td>1340</td>\n",
       "      <td>5650</td>\n",
       "    </tr>\n",
       "    <tr>\n",
       "      <th>1</th>\n",
       "      <td>6414100192</td>\n",
       "      <td>538000.000</td>\n",
       "      <td>3</td>\n",
       "      <td>2.250</td>\n",
       "      <td>2570</td>\n",
       "      <td>7242</td>\n",
       "      <td>2.000</td>\n",
       "      <td>0.000</td>\n",
       "      <td>0.000</td>\n",
       "      <td>3</td>\n",
       "      <td>7</td>\n",
       "      <td>2170</td>\n",
       "      <td>1951</td>\n",
       "      <td>1991.000</td>\n",
       "      <td>98125</td>\n",
       "      <td>47.721</td>\n",
       "      <td>-122.319</td>\n",
       "      <td>1690</td>\n",
       "      <td>7639</td>\n",
       "    </tr>\n",
       "    <tr>\n",
       "      <th>2</th>\n",
       "      <td>5631500400</td>\n",
       "      <td>180000.000</td>\n",
       "      <td>2</td>\n",
       "      <td>1.000</td>\n",
       "      <td>770</td>\n",
       "      <td>10000</td>\n",
       "      <td>1.000</td>\n",
       "      <td>0.000</td>\n",
       "      <td>0.000</td>\n",
       "      <td>3</td>\n",
       "      <td>6</td>\n",
       "      <td>770</td>\n",
       "      <td>1933</td>\n",
       "      <td>nan</td>\n",
       "      <td>98028</td>\n",
       "      <td>47.738</td>\n",
       "      <td>-122.233</td>\n",
       "      <td>2720</td>\n",
       "      <td>8062</td>\n",
       "    </tr>\n",
       "    <tr>\n",
       "      <th>3</th>\n",
       "      <td>2487200875</td>\n",
       "      <td>604000.000</td>\n",
       "      <td>4</td>\n",
       "      <td>3.000</td>\n",
       "      <td>1960</td>\n",
       "      <td>5000</td>\n",
       "      <td>1.000</td>\n",
       "      <td>0.000</td>\n",
       "      <td>0.000</td>\n",
       "      <td>5</td>\n",
       "      <td>7</td>\n",
       "      <td>1050</td>\n",
       "      <td>1965</td>\n",
       "      <td>0.000</td>\n",
       "      <td>98136</td>\n",
       "      <td>47.521</td>\n",
       "      <td>-122.393</td>\n",
       "      <td>1360</td>\n",
       "      <td>5000</td>\n",
       "    </tr>\n",
       "    <tr>\n",
       "      <th>4</th>\n",
       "      <td>1954400510</td>\n",
       "      <td>510000.000</td>\n",
       "      <td>3</td>\n",
       "      <td>2.000</td>\n",
       "      <td>1680</td>\n",
       "      <td>8080</td>\n",
       "      <td>1.000</td>\n",
       "      <td>0.000</td>\n",
       "      <td>0.000</td>\n",
       "      <td>3</td>\n",
       "      <td>8</td>\n",
       "      <td>1680</td>\n",
       "      <td>1987</td>\n",
       "      <td>0.000</td>\n",
       "      <td>98074</td>\n",
       "      <td>47.617</td>\n",
       "      <td>-122.045</td>\n",
       "      <td>1800</td>\n",
       "      <td>7503</td>\n",
       "    </tr>\n",
       "  </tbody>\n",
       "</table>\n",
       "</div>"
      ],
      "text/plain": [
       "           id      price  bedrooms  bathrooms  sqft_living  sqft_lot  floors  \\\n",
       "0  7129300520 221900.000         3      1.000         1180      5650   1.000   \n",
       "1  6414100192 538000.000         3      2.250         2570      7242   2.000   \n",
       "2  5631500400 180000.000         2      1.000          770     10000   1.000   \n",
       "3  2487200875 604000.000         4      3.000         1960      5000   1.000   \n",
       "4  1954400510 510000.000         3      2.000         1680      8080   1.000   \n",
       "\n",
       "   waterfront  view  condition  grade  sqft_above  yr_built  yr_renovated  \\\n",
       "0         nan 0.000          3      7        1180      1955         0.000   \n",
       "1       0.000 0.000          3      7        2170      1951      1991.000   \n",
       "2       0.000 0.000          3      6         770      1933           nan   \n",
       "3       0.000 0.000          5      7        1050      1965         0.000   \n",
       "4       0.000 0.000          3      8        1680      1987         0.000   \n",
       "\n",
       "   zipcode    lat     long  sqft_living15  sqft_lot15  \n",
       "0    98178 47.511 -122.257           1340        5650  \n",
       "1    98125 47.721 -122.319           1690        7639  \n",
       "2    98028 47.738 -122.233           2720        8062  \n",
       "3    98136 47.521 -122.393           1360        5000  \n",
       "4    98074 47.617 -122.045           1800        7503  "
      ]
     },
     "execution_count": 8,
     "metadata": {},
     "output_type": "execute_result"
    }
   ],
   "source": [
    "ndf.head()"
   ]
  },
  {
   "cell_type": "code",
   "execution_count": 10,
   "metadata": {
    "ExecuteTime": {
     "end_time": "2020-09-21T22:10:30.331586Z",
     "start_time": "2020-09-21T22:10:30.319586Z"
    }
   },
   "outputs": [
    {
     "data": {
      "text/plain": [
       "19422"
      ]
     },
     "execution_count": 10,
     "metadata": {},
     "output_type": "execute_result"
    }
   ],
   "source": [
    "sum(ndf['view'] == 0)"
   ]
  },
  {
   "cell_type": "code",
   "execution_count": 11,
   "metadata": {
    "ExecuteTime": {
     "end_time": "2020-09-21T22:11:03.413138Z",
     "start_time": "2020-09-21T22:11:03.376576Z"
    }
   },
   "outputs": [],
   "source": [
    "count_0 = {}\n",
    "for col in ndf.columns:\n",
    "    count_0[col] = sum(ndf[col] == 0)"
   ]
  },
  {
   "cell_type": "code",
   "execution_count": 24,
   "metadata": {
    "ExecuteTime": {
     "end_time": "2020-09-21T22:15:26.096424Z",
     "start_time": "2020-09-21T22:15:26.090427Z"
    }
   },
   "outputs": [],
   "source": [
    "rgb = ['price', 'sqft_living', 'zipcode']\n",
    "rgb_d = {}"
   ]
  },
  {
   "cell_type": "code",
   "execution_count": 25,
   "metadata": {
    "ExecuteTime": {
     "end_time": "2020-09-21T22:15:26.617897Z",
     "start_time": "2020-09-21T22:15:26.533343Z"
    }
   },
   "outputs": [],
   "source": [
    "for col in ndf.columns:\n",
    "    try:\n",
    "        rgb_d[col] = ndf[col].apply(lambda x: 255 - (255/x))\n",
    "    except:\n",
    "        pass\n",
    "df = pd.DataFrame(rgb_d)"
   ]
  },
  {
   "cell_type": "code",
   "execution_count": null,
   "metadata": {},
   "outputs": [],
   "source": [
    "# bedrooms, bathrooms, floors"
   ]
  },
  {
   "cell_type": "code",
   "execution_count": 31,
   "metadata": {
    "ExecuteTime": {
     "end_time": "2020-09-21T22:16:59.668048Z",
     "start_time": "2020-09-21T22:16:59.656838Z"
    }
   },
   "outputs": [],
   "source": [
    "df = df[['bedrooms', 'bathrooms', 'floors']]"
   ]
  },
  {
   "cell_type": "code",
   "execution_count": 34,
   "metadata": {
    "ExecuteTime": {
     "end_time": "2020-09-21T22:17:57.022506Z",
     "start_time": "2020-09-21T22:17:57.012508Z"
    }
   },
   "outputs": [],
   "source": [
    "image = np.array(df)"
   ]
  },
  {
   "cell_type": "code",
   "execution_count": 35,
   "metadata": {
    "ExecuteTime": {
     "end_time": "2020-09-21T22:18:04.832866Z",
     "start_time": "2020-09-21T22:18:04.821870Z"
    }
   },
   "outputs": [],
   "source": [
    "from PIL import Image"
   ]
  },
  {
   "cell_type": "code",
   "execution_count": 39,
   "metadata": {
    "ExecuteTime": {
     "end_time": "2020-09-21T22:19:41.350398Z",
     "start_time": "2020-09-21T22:19:41.339325Z"
    }
   },
   "outputs": [],
   "source": [
    "import matplotlib.pyplot as plt"
   ]
  },
  {
   "cell_type": "code",
   "execution_count": 59,
   "metadata": {
    "ExecuteTime": {
     "end_time": "2020-09-21T22:25:03.245336Z",
     "start_time": "2020-09-21T22:25:03.228333Z"
    }
   },
   "outputs": [],
   "source": [
    "img = Image.open('img/output_122_0.png')"
   ]
  },
  {
   "cell_type": "code",
   "execution_count": 74,
   "metadata": {
    "ExecuteTime": {
     "end_time": "2020-09-21T22:28:08.545501Z",
     "start_time": "2020-09-21T22:28:08.527501Z"
    }
   },
   "outputs": [
    {
     "data": {
      "text/plain": [
       "21462"
      ]
     },
     "execution_count": 74,
     "metadata": {},
     "output_type": "execute_result"
    }
   ],
   "source": [
    "146*147\n"
   ]
  },
  {
   "cell_type": "code",
   "execution_count": 77,
   "metadata": {
    "ExecuteTime": {
     "end_time": "2020-09-21T22:28:41.661425Z",
     "start_time": "2020-09-21T22:28:41.656417Z"
    }
   },
   "outputs": [],
   "source": [
    "image = image[0:21462].reshape((146, 147, 3))"
   ]
  },
  {
   "cell_type": "code",
   "execution_count": 79,
   "metadata": {
    "ExecuteTime": {
     "end_time": "2020-09-21T22:28:49.363819Z",
     "start_time": "2020-09-21T22:28:49.349748Z"
    }
   },
   "outputs": [],
   "source": [
    "fft_p = image.astype(np.uint8)\n",
    "new_p = Image.fromarray(fft_p)"
   ]
  },
  {
   "cell_type": "code",
   "execution_count": 80,
   "metadata": {
    "ExecuteTime": {
     "end_time": "2020-09-21T22:28:51.010977Z",
     "start_time": "2020-09-21T22:28:50.898987Z"
    }
   },
   "outputs": [
    {
     "name": "stderr",
     "output_type": "stream",
     "text": [
      "Clipping input data to the valid range for imshow with RGB data ([0..1] for floats or [0..255] for integers).\n"
     ]
    },
    {
     "data": {
      "text/plain": [
       "<matplotlib.image.AxesImage at 0x19b91d31550>"
      ]
     },
     "execution_count": 80,
     "metadata": {},
     "output_type": "execute_result"
    },
    {
     "data": {
      "image/png": "[encoded data removed]",
      "text/plain": [
       "<Figure size 432x288 with 1 Axes>"
      ]
     },
     "metadata": {
      "needs_background": "light"
     },
     "output_type": "display_data"
    }
   ],
   "source": [
    "fig, ax = plt.subplots()\n",
    "ax.imshow(image)"
   ]
  },
  {
   "cell_type": "code",
   "execution_count": 46,
   "metadata": {
    "ExecuteTime": {
     "end_time": "2020-09-21T22:21:23.341966Z",
     "start_time": "2020-09-21T22:21:23.326970Z"
    }
   },
   "outputs": [
    {
     "data": {
      "text/plain": [
       "(2000, 3)"
      ]
     },
     "execution_count": 46,
     "metadata": {},
     "output_type": "execute_result"
    }
   ],
   "source": [
    "image[0:2000].shape"
   ]
  },
  {
   "cell_type": "code",
   "execution_count": 83,
   "metadata": {
    "ExecuteTime": {
     "end_time": "2020-09-21T22:35:32.468994Z",
     "start_time": "2020-09-21T22:35:32.451997Z"
    }
   },
   "outputs": [
    {
     "data": {
      "text/html": [
       "<div>\n",
       "<style scoped>\n",
       "    .dataframe tbody tr th:only-of-type {\n",
       "        vertical-align: middle;\n",
       "    }\n",
       "\n",
       "    .dataframe tbody tr th {\n",
       "        vertical-align: top;\n",
       "    }\n",
       "\n",
       "    .dataframe thead th {\n",
       "        text-align: right;\n",
       "    }\n",
       "</style>\n",
       "<table border=\"1\" class=\"dataframe\">\n",
       "  <thead>\n",
       "    <tr style=\"text-align: right;\">\n",
       "      <th></th>\n",
       "      <th>bedrooms</th>\n",
       "      <th>bathrooms</th>\n",
       "      <th>floors</th>\n",
       "    </tr>\n",
       "  </thead>\n",
       "  <tbody>\n",
       "    <tr>\n",
       "      <th>count</th>\n",
       "      <td>21597.000</td>\n",
       "      <td>21597.000</td>\n",
       "      <td>21597.000</td>\n",
       "    </tr>\n",
       "    <tr>\n",
       "      <th>mean</th>\n",
       "      <td>173.001</td>\n",
       "      <td>114.540</td>\n",
       "      <td>62.142</td>\n",
       "    </tr>\n",
       "    <tr>\n",
       "      <th>std</th>\n",
       "      <td>27.279</td>\n",
       "      <td>60.578</td>\n",
       "      <td>63.078</td>\n",
       "    </tr>\n",
       "    <tr>\n",
       "      <th>min</th>\n",
       "      <td>0.000</td>\n",
       "      <td>-255.000</td>\n",
       "      <td>0.000</td>\n",
       "    </tr>\n",
       "    <tr>\n",
       "      <th>25%</th>\n",
       "      <td>170.000</td>\n",
       "      <td>109.286</td>\n",
       "      <td>0.000</td>\n",
       "    </tr>\n",
       "    <tr>\n",
       "      <th>50%</th>\n",
       "      <td>170.000</td>\n",
       "      <td>141.667</td>\n",
       "      <td>85.000</td>\n",
       "    </tr>\n",
       "    <tr>\n",
       "      <th>75%</th>\n",
       "      <td>191.250</td>\n",
       "      <td>153.000</td>\n",
       "      <td>127.500</td>\n",
       "    </tr>\n",
       "    <tr>\n",
       "      <th>max</th>\n",
       "      <td>247.273</td>\n",
       "      <td>223.125</td>\n",
       "      <td>182.143</td>\n",
       "    </tr>\n",
       "  </tbody>\n",
       "</table>\n",
       "</div>"
      ],
      "text/plain": [
       "       bedrooms  bathrooms    floors\n",
       "count 21597.000  21597.000 21597.000\n",
       "mean    173.001    114.540    62.142\n",
       "std      27.279     60.578    63.078\n",
       "min       0.000   -255.000     0.000\n",
       "25%     170.000    109.286     0.000\n",
       "50%     170.000    141.667    85.000\n",
       "75%     191.250    153.000   127.500\n",
       "max     247.273    223.125   182.143"
      ]
     },
     "execution_count": 83,
     "metadata": {},
     "output_type": "execute_result"
    }
   ],
   "source": [
    "df.describe()"
   ]
  },
  {
   "cell_type": "code",
   "execution_count": 182,
   "metadata": {
    "ExecuteTime": {
     "end_time": "2020-09-22T03:12:39.301797Z",
     "start_time": "2020-09-22T03:12:39.021716Z"
    }
   },
   "outputs": [
    {
     "name": "stderr",
     "output_type": "stream",
     "text": [
      "Clipping input data to the valid range for imshow with RGB data ([0..1] for floats or [0..255] for integers).\n"
     ]
    },
    {
     "data": {
      "text/plain": [
       "<matplotlib.image.AxesImage at 0x19b969ffc18>"
      ]
     },
     "execution_count": 182,
     "metadata": {},
     "output_type": "execute_result"
    },
    {
     "data": {
      "image/png": "[encoded data removed]",
      "text/plain": [
       "<Figure size 864x864 with 1 Axes>"
      ]
     },
     "metadata": {
      "needs_background": "light"
     },
     "output_type": "display_data"
    }
   ],
   "source": [
    "import pandas as pd\n",
    "import numpy as np\n",
    "import matplotlib.pyplot as plt\n",
    "from mlframe import MLFrame\n",
    "rgb_d = {}\n",
    "df = MLFrame(pd.read_csv('kc_house_data.csv'))\n",
    "ndf = df.select_dtypes('number')\n",
    "for col in ndf.columns:\n",
    "    try:\n",
    "        rgb_d[col] = ndf[col].apply(lambda x: 255 - abs(255/x))\n",
    "    except:\n",
    "        pass\n",
    "df = pd.DataFrame(rgb_d)\n",
    "df = df[['bedrooms', 'bathrooms', 'floors']]\n",
    "image = np.array(df)\n",
    "image = image[0:21462].reshape((146, 147, 3))\n",
    "fft_p = image.astype(np.uint8)\n",
    "new_p = Image.fromarray(fft_p)\n",
    "fig, ax = plt.subplots(figsize=(12, 12))\n",
    "ax.imshow(image)"
   ]
  },
  {
   "cell_type": "code",
   "execution_count": 179,
   "metadata": {
    "ExecuteTime": {
     "end_time": "2020-09-22T03:11:42.040133Z",
     "start_time": "2020-09-22T03:11:41.991133Z"
    }
   },
   "outputs": [
    {
     "data": {
      "text/html": [
       "<div>\n",
       "<style scoped>\n",
       "    .dataframe tbody tr th:only-of-type {\n",
       "        vertical-align: middle;\n",
       "    }\n",
       "\n",
       "    .dataframe tbody tr th {\n",
       "        vertical-align: top;\n",
       "    }\n",
       "\n",
       "    .dataframe thead th {\n",
       "        text-align: right;\n",
       "    }\n",
       "</style>\n",
       "<table border=\"1\" class=\"dataframe\">\n",
       "  <thead>\n",
       "    <tr style=\"text-align: right;\">\n",
       "      <th></th>\n",
       "      <th>id</th>\n",
       "      <th>price</th>\n",
       "      <th>bedrooms</th>\n",
       "      <th>bathrooms</th>\n",
       "      <th>sqft_living</th>\n",
       "      <th>sqft_lot</th>\n",
       "      <th>floors</th>\n",
       "      <th>condition</th>\n",
       "      <th>grade</th>\n",
       "      <th>sqft_above</th>\n",
       "      <th>yr_built</th>\n",
       "      <th>zipcode</th>\n",
       "      <th>lat</th>\n",
       "      <th>long</th>\n",
       "      <th>sqft_living15</th>\n",
       "      <th>sqft_lot15</th>\n",
       "    </tr>\n",
       "  </thead>\n",
       "  <tbody>\n",
       "    <tr>\n",
       "      <th>count</th>\n",
       "      <td>21597.000</td>\n",
       "      <td>21597.000</td>\n",
       "      <td>21597.000</td>\n",
       "      <td>21597.000</td>\n",
       "      <td>21597.000</td>\n",
       "      <td>21597.000</td>\n",
       "      <td>21597.000</td>\n",
       "      <td>21597.000</td>\n",
       "      <td>21597.000</td>\n",
       "      <td>21597.000</td>\n",
       "      <td>21597.000</td>\n",
       "      <td>21597.000</td>\n",
       "      <td>21597.000</td>\n",
       "      <td>21597.000</td>\n",
       "      <td>21597.000</td>\n",
       "      <td>21597.000</td>\n",
       "    </tr>\n",
       "    <tr>\n",
       "      <th>mean</th>\n",
       "      <td>255.000</td>\n",
       "      <td>254.999</td>\n",
       "      <td>173.001</td>\n",
       "      <td>114.540</td>\n",
       "      <td>254.853</td>\n",
       "      <td>254.955</td>\n",
       "      <td>62.142</td>\n",
       "      <td>177.701</td>\n",
       "      <td>220.949</td>\n",
       "      <td>254.829</td>\n",
       "      <td>254.871</td>\n",
       "      <td>254.997</td>\n",
       "      <td>249.638</td>\n",
       "      <td>252.913</td>\n",
       "      <td>254.857</td>\n",
       "      <td>254.956</td>\n",
       "    </tr>\n",
       "    <tr>\n",
       "      <th>std</th>\n",
       "      <td>0.000</td>\n",
       "      <td>0.000</td>\n",
       "      <td>27.279</td>\n",
       "      <td>60.578</td>\n",
       "      <td>0.065</td>\n",
       "      <td>0.046</td>\n",
       "      <td>63.078</td>\n",
       "      <td>14.265</td>\n",
       "      <td>5.063</td>\n",
       "      <td>0.071</td>\n",
       "      <td>0.002</td>\n",
       "      <td>0.000</td>\n",
       "      <td>0.016</td>\n",
       "      <td>0.002</td>\n",
       "      <td>0.046</td>\n",
       "      <td>0.039</td>\n",
       "    </tr>\n",
       "    <tr>\n",
       "      <th>min</th>\n",
       "      <td>255.000</td>\n",
       "      <td>254.997</td>\n",
       "      <td>0.000</td>\n",
       "      <td>-255.000</td>\n",
       "      <td>254.311</td>\n",
       "      <td>254.510</td>\n",
       "      <td>0.000</td>\n",
       "      <td>0.000</td>\n",
       "      <td>170.000</td>\n",
       "      <td>254.311</td>\n",
       "      <td>254.866</td>\n",
       "      <td>254.997</td>\n",
       "      <td>249.592</td>\n",
       "      <td>252.898</td>\n",
       "      <td>254.361</td>\n",
       "      <td>254.608</td>\n",
       "    </tr>\n",
       "    <tr>\n",
       "      <th>25%</th>\n",
       "      <td>255.000</td>\n",
       "      <td>254.999</td>\n",
       "      <td>170.000</td>\n",
       "      <td>109.286</td>\n",
       "      <td>254.822</td>\n",
       "      <td>254.949</td>\n",
       "      <td>0.000</td>\n",
       "      <td>170.000</td>\n",
       "      <td>218.571</td>\n",
       "      <td>254.786</td>\n",
       "      <td>254.869</td>\n",
       "      <td>254.997</td>\n",
       "      <td>249.628</td>\n",
       "      <td>252.912</td>\n",
       "      <td>254.829</td>\n",
       "      <td>254.950</td>\n",
       "    </tr>\n",
       "    <tr>\n",
       "      <th>50%</th>\n",
       "      <td>255.000</td>\n",
       "      <td>254.999</td>\n",
       "      <td>170.000</td>\n",
       "      <td>141.667</td>\n",
       "      <td>254.866</td>\n",
       "      <td>254.967</td>\n",
       "      <td>85.000</td>\n",
       "      <td>170.000</td>\n",
       "      <td>218.571</td>\n",
       "      <td>254.837</td>\n",
       "      <td>254.871</td>\n",
       "      <td>254.997</td>\n",
       "      <td>249.640</td>\n",
       "      <td>252.914</td>\n",
       "      <td>254.861</td>\n",
       "      <td>254.967</td>\n",
       "    </tr>\n",
       "    <tr>\n",
       "      <th>75%</th>\n",
       "      <td>255.000</td>\n",
       "      <td>255.000</td>\n",
       "      <td>191.250</td>\n",
       "      <td>153.000</td>\n",
       "      <td>254.900</td>\n",
       "      <td>254.976</td>\n",
       "      <td>127.500</td>\n",
       "      <td>191.250</td>\n",
       "      <td>223.125</td>\n",
       "      <td>254.885</td>\n",
       "      <td>254.872</td>\n",
       "      <td>254.997</td>\n",
       "      <td>249.652</td>\n",
       "      <td>252.915</td>\n",
       "      <td>254.892</td>\n",
       "      <td>254.975</td>\n",
       "    </tr>\n",
       "    <tr>\n",
       "      <th>max</th>\n",
       "      <td>255.000</td>\n",
       "      <td>255.000</td>\n",
       "      <td>247.273</td>\n",
       "      <td>223.125</td>\n",
       "      <td>254.981</td>\n",
       "      <td>255.000</td>\n",
       "      <td>182.143</td>\n",
       "      <td>204.000</td>\n",
       "      <td>235.385</td>\n",
       "      <td>254.973</td>\n",
       "      <td>254.873</td>\n",
       "      <td>254.997</td>\n",
       "      <td>249.663</td>\n",
       "      <td>252.919</td>\n",
       "      <td>254.959</td>\n",
       "      <td>255.000</td>\n",
       "    </tr>\n",
       "  </tbody>\n",
       "</table>\n",
       "</div>"
      ],
      "text/plain": [
       "             id     price  bedrooms  bathrooms  sqft_living  sqft_lot  \\\n",
       "count 21597.000 21597.000 21597.000  21597.000    21597.000 21597.000   \n",
       "mean    255.000   254.999   173.001    114.540      254.853   254.955   \n",
       "std       0.000     0.000    27.279     60.578        0.065     0.046   \n",
       "min     255.000   254.997     0.000   -255.000      254.311   254.510   \n",
       "25%     255.000   254.999   170.000    109.286      254.822   254.949   \n",
       "50%     255.000   254.999   170.000    141.667      254.866   254.967   \n",
       "75%     255.000   255.000   191.250    153.000      254.900   254.976   \n",
       "max     255.000   255.000   247.273    223.125      254.981   255.000   \n",
       "\n",
       "         floors  condition     grade  sqft_above  yr_built   zipcode  \\\n",
       "count 21597.000  21597.000 21597.000   21597.000 21597.000 21597.000   \n",
       "mean     62.142    177.701   220.949     254.829   254.871   254.997   \n",
       "std      63.078     14.265     5.063       0.071     0.002     0.000   \n",
       "min       0.000      0.000   170.000     254.311   254.866   254.997   \n",
       "25%       0.000    170.000   218.571     254.786   254.869   254.997   \n",
       "50%      85.000    170.000   218.571     254.837   254.871   254.997   \n",
       "75%     127.500    191.250   223.125     254.885   254.872   254.997   \n",
       "max     182.143    204.000   235.385     254.973   254.873   254.997   \n",
       "\n",
       "            lat      long  sqft_living15  sqft_lot15  \n",
       "count 21597.000 21597.000      21597.000   21597.000  \n",
       "mean    249.638   252.913        254.857     254.956  \n",
       "std       0.016     0.002          0.046       0.039  \n",
       "min     249.592   252.898        254.361     254.608  \n",
       "25%     249.628   252.912        254.829     254.950  \n",
       "50%     249.640   252.914        254.861     254.967  \n",
       "75%     249.652   252.915        254.892     254.975  \n",
       "max     249.663   252.919        254.959     255.000  "
      ]
     },
     "execution_count": 179,
     "metadata": {},
     "output_type": "execute_result"
    }
   ],
   "source": [
    "MLFrame(rgb_d).describe()"
   ]
  },
  {
   "cell_type": "code",
   "execution_count": 109,
   "metadata": {
    "ExecuteTime": {
     "end_time": "2020-09-21T22:44:41.177058Z",
     "start_time": "2020-09-21T22:44:41.174058Z"
    }
   },
   "outputs": [],
   "source": [
    "price = np.array(rgb_d['price'])\n",
    "price *= 255/image.max()"
   ]
  },
  {
   "cell_type": "code",
   "execution_count": 136,
   "metadata": {
    "ExecuteTime": {
     "end_time": "2020-09-21T22:54:55.523869Z",
     "start_time": "2020-09-21T22:54:55.500870Z"
    }
   },
   "outputs": [],
   "source": [
    "one = ndf['price'] / (255*ndf['price'].max())\n",
    "two = ndf['price'].apply(lambda x: 255 - (255/x))"
   ]
  },
  {
   "cell_type": "code",
   "execution_count": 174,
   "metadata": {
    "ExecuteTime": {
     "end_time": "2020-09-22T03:11:04.946263Z",
     "start_time": "2020-09-22T03:11:04.937262Z"
    }
   },
   "outputs": [
    {
     "data": {
      "text/plain": [
       "-122.257"
      ]
     },
     "execution_count": 174,
     "metadata": {},
     "output_type": "execute_result"
    }
   ],
   "source": [
    "ndf['long'][0]"
   ]
  },
  {
   "cell_type": "code",
   "execution_count": 176,
   "metadata": {
    "ExecuteTime": {
     "end_time": "2020-09-22T03:11:22.954404Z",
     "start_time": "2020-09-22T03:11:22.949404Z"
    }
   },
   "outputs": [
    {
     "data": {
      "text/plain": [
       "-2.0901639344262297"
      ]
     },
     "execution_count": 176,
     "metadata": {},
     "output_type": "execute_result"
    }
   ],
   "source": [
    "(255/-122)"
   ]
  },
  {
   "cell_type": "code",
   "execution_count": null,
   "metadata": {},
   "outputs": [],
   "source": []
  }
 ],
 "metadata": {
  "kernelspec": {
   "display_name": "Python 3",
   "language": "python",
   "name": "python3"
  },
  "language_info": {
   "codemirror_mode": {
    "name": "ipython",
    "version": 3
   },
   "file_extension": ".py",
   "mimetype": "text/x-python",
   "name": "python",
   "nbconvert_exporter": "python",
   "pygments_lexer": "ipython3",
   "version": "3.6.9"
  },
  "toc": {
   "base_numbering": 1,
   "nav_menu": {},
   "number_sections": true,
   "sideBar": true,
   "skip_h1_title": false,
   "title_cell": "Table of Contents",
   "title_sidebar": "Contents",
   "toc_cell": true,
   "toc_position": {},
   "toc_section_display": true,
   "toc_window_display": false
  }
 },
 "nbformat": 4,
 "nbformat_minor": 2
}
