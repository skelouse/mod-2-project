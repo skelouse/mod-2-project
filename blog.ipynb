{
 "cells": [
  {
   "cell_type": "markdown",
   "metadata": {
    "toc": true
   },
   "source": [
    "<h1>Table of Contents<span class=\"tocSkip\"></span></h1>\n",
    "<div class=\"toc\"><ul class=\"toc-item\"><li><span><a href=\"#Linear-Regression-Model\" data-toc-modified-id=\"Linear-Regression-Model-1\"><span class=\"toc-item-num\">1&nbsp;&nbsp;</span>Linear Regression Model</a></span></li><li><span><a href=\"#Import-Libraries-and-Data\" data-toc-modified-id=\"Import-Libraries-and-Data-2\"><span class=\"toc-item-num\">2&nbsp;&nbsp;</span>Import Libraries and Data</a></span><ul class=\"toc-item\"><li><span><a href=\"#Dropping-Useless-Columns\" data-toc-modified-id=\"Dropping-Useless-Columns-2.1\"><span class=\"toc-item-num\">2.1&nbsp;&nbsp;</span>Dropping Useless Columns</a></span></li><li><span><a href=\"#Cleaning-sqft_basement\" data-toc-modified-id=\"Cleaning-sqft_basement-2.2\"><span class=\"toc-item-num\">2.2&nbsp;&nbsp;</span>Cleaning sqft_basement</a></span></li><li><span><a href=\"#Checking-Nulls\" data-toc-modified-id=\"Checking-Nulls-2.3\"><span class=\"toc-item-num\">2.3&nbsp;&nbsp;</span>Checking Nulls</a></span></li><li><span><a href=\"#Filling-Null-Values-with-Mode\" data-toc-modified-id=\"Filling-Null-Values-with-Mode-2.4\"><span class=\"toc-item-num\">2.4&nbsp;&nbsp;</span>Filling Null Values with Mode</a></span><ul class=\"toc-item\"><li><span><a href=\"#Showing-the-percentage-each-column-is-null-of-the-entire-database.\" data-toc-modified-id=\"Showing-the-percentage-each-column-is-null-of-the-entire-database.-2.4.1\"><span class=\"toc-item-num\">2.4.1&nbsp;&nbsp;</span>Showing the percentage each column is null of the entire database.</a></span></li><li><span><a href=\"#Pulling-out-the-index-of-null_perc-for-columns-with-any-nulls\" data-toc-modified-id=\"Pulling-out-the-index-of-null_perc-for-columns-with-any-nulls-2.4.2\"><span class=\"toc-item-num\">2.4.2&nbsp;&nbsp;</span>Pulling out the index of null_perc for columns with any nulls</a></span></li><li><span><a href=\"#Getting-the-mode-for-each-of-the-null-containing-columns\" data-toc-modified-id=\"Getting-the-mode-for-each-of-the-null-containing-columns-2.4.3\"><span class=\"toc-item-num\">2.4.3&nbsp;&nbsp;</span>Getting the mode for each of the null containing columns</a></span></li><li><span><a href=\"#Showing-the-null-values-again!\" data-toc-modified-id=\"Showing-the-null-values-again!-2.4.4\"><span class=\"toc-item-num\">2.4.4&nbsp;&nbsp;</span>Showing the null values again!</a></span></li></ul></li></ul></li><li><span><a href=\"#First-Model!\" data-toc-modified-id=\"First-Model!-3\"><span class=\"toc-item-num\">3&nbsp;&nbsp;</span>First Model!</a></span><ul class=\"toc-item\"><li><span><a href=\"#Preparing-the-Columns\" data-toc-modified-id=\"Preparing-the-Columns-3.1\"><span class=\"toc-item-num\">3.1&nbsp;&nbsp;</span>Preparing the Columns</a></span></li><li><span><a href=\"#Modeling\" data-toc-modified-id=\"Modeling-3.2\"><span class=\"toc-item-num\">3.2&nbsp;&nbsp;</span>Modeling</a></span></li><li><span><a href=\"#Plotting-the-residuals\" data-toc-modified-id=\"Plotting-the-residuals-3.3\"><span class=\"toc-item-num\">3.3&nbsp;&nbsp;</span>Plotting the residuals</a></span><ul class=\"toc-item\"><li><span><a href=\"#Model-Residual-QQ-Plot\" data-toc-modified-id=\"Model-Residual-QQ-Plot-3.3.1\"><span class=\"toc-item-num\">3.3.1&nbsp;&nbsp;</span>Model Residual QQ Plot</a></span></li><li><span><a href=\"#Model-Residual-Scatter-Plot\" data-toc-modified-id=\"Model-Residual-Scatter-Plot-3.3.2\"><span class=\"toc-item-num\">3.3.2&nbsp;&nbsp;</span>Model Residual Scatter Plot</a></span></li></ul></li></ul></li><li><span><a href=\"#Summary\" data-toc-modified-id=\"Summary-4\"><span class=\"toc-item-num\">4&nbsp;&nbsp;</span>Summary</a></span></li></ul></div>"
   ]
  },
  {
   "cell_type": "markdown",
   "metadata": {},
   "source": [
    "## Linear Regression Model"
   ]
  },
  {
   "cell_type": "markdown",
   "metadata": {
    "ExecuteTime": {
     "end_time": "2020-09-05T06:03:35.611422Z",
     "start_time": "2020-09-05T06:03:35.604424Z"
    }
   },
   "source": [
    "> This is not a complete process, only getting a first model, normally I would use the OSEMN process like below.\n",
    ">- **O**btain\n",
    "- **S**crub\n",
    "- **E**xplore\n",
    "- **M**odel\n",
    "- I**N**terpret"
   ]
  },
  {
   "cell_type": "markdown",
   "metadata": {},
   "source": [
    "## Import Libraries and Data\n",
    "> We are going to be using our process on the King's County Housing Data set"
   ]
  },
  {
   "cell_type": "code",
   "execution_count": 1,
   "metadata": {
    "ExecuteTime": {
     "end_time": "2020-09-05T07:27:53.920084Z",
     "start_time": "2020-09-05T07:27:52.638283Z"
    }
   },
   "outputs": [
    {
     "name": "stderr",
     "output_type": "stream",
     "text": [
      "C:\\Users\\12147\\anaconda3\\envs\\learn-env\\lib\\site-packages\\statsmodels\\tools\\_testing.py:19: FutureWarning: pandas.util.testing is deprecated. Use the functions in the public API at pandas.testing instead.\n",
      "  import pandas.util.testing as tm\n"
     ]
    }
   ],
   "source": [
    "import pandas as pd\n",
    "import numpy as np\n",
    "import matplotlib.pyplot as plt\n",
    "import statsmodels.api as sm\n",
    "import statsmodels.formula.api as smf"
   ]
  },
  {
   "cell_type": "code",
   "execution_count": 2,
   "metadata": {
    "ExecuteTime": {
     "end_time": "2020-09-05T07:27:53.981047Z",
     "start_time": "2020-09-05T07:27:53.921084Z"
    }
   },
   "outputs": [
    {
     "data": {
      "text/html": [
       "<div>\n",
       "<style scoped>\n",
       "    .dataframe tbody tr th:only-of-type {\n",
       "        vertical-align: middle;\n",
       "    }\n",
       "\n",
       "    .dataframe tbody tr th {\n",
       "        vertical-align: top;\n",
       "    }\n",
       "\n",
       "    .dataframe thead th {\n",
       "        text-align: right;\n",
       "    }\n",
       "</style>\n",
       "<table border=\"1\" class=\"dataframe\">\n",
       "  <thead>\n",
       "    <tr style=\"text-align: right;\">\n",
       "      <th></th>\n",
       "      <th>id</th>\n",
       "      <th>date</th>\n",
       "      <th>price</th>\n",
       "      <th>bedrooms</th>\n",
       "      <th>bathrooms</th>\n",
       "      <th>sqft_living</th>\n",
       "      <th>sqft_lot</th>\n",
       "      <th>floors</th>\n",
       "      <th>waterfront</th>\n",
       "      <th>view</th>\n",
       "      <th>...</th>\n",
       "      <th>grade</th>\n",
       "      <th>sqft_above</th>\n",
       "      <th>sqft_basement</th>\n",
       "      <th>yr_built</th>\n",
       "      <th>yr_renovated</th>\n",
       "      <th>zipcode</th>\n",
       "      <th>lat</th>\n",
       "      <th>long</th>\n",
       "      <th>sqft_living15</th>\n",
       "      <th>sqft_lot15</th>\n",
       "    </tr>\n",
       "  </thead>\n",
       "  <tbody>\n",
       "    <tr>\n",
       "      <th>0</th>\n",
       "      <td>7129300520</td>\n",
       "      <td>10/13/2014</td>\n",
       "      <td>221900.0</td>\n",
       "      <td>3</td>\n",
       "      <td>1.00</td>\n",
       "      <td>1180</td>\n",
       "      <td>5650</td>\n",
       "      <td>1.0</td>\n",
       "      <td>NaN</td>\n",
       "      <td>0.0</td>\n",
       "      <td>...</td>\n",
       "      <td>7</td>\n",
       "      <td>1180</td>\n",
       "      <td>0.0</td>\n",
       "      <td>1955</td>\n",
       "      <td>0.0</td>\n",
       "      <td>98178</td>\n",
       "      <td>47.5112</td>\n",
       "      <td>-122.257</td>\n",
       "      <td>1340</td>\n",
       "      <td>5650</td>\n",
       "    </tr>\n",
       "    <tr>\n",
       "      <th>1</th>\n",
       "      <td>6414100192</td>\n",
       "      <td>12/9/2014</td>\n",
       "      <td>538000.0</td>\n",
       "      <td>3</td>\n",
       "      <td>2.25</td>\n",
       "      <td>2570</td>\n",
       "      <td>7242</td>\n",
       "      <td>2.0</td>\n",
       "      <td>0.0</td>\n",
       "      <td>0.0</td>\n",
       "      <td>...</td>\n",
       "      <td>7</td>\n",
       "      <td>2170</td>\n",
       "      <td>400.0</td>\n",
       "      <td>1951</td>\n",
       "      <td>1991.0</td>\n",
       "      <td>98125</td>\n",
       "      <td>47.7210</td>\n",
       "      <td>-122.319</td>\n",
       "      <td>1690</td>\n",
       "      <td>7639</td>\n",
       "    </tr>\n",
       "    <tr>\n",
       "      <th>2</th>\n",
       "      <td>5631500400</td>\n",
       "      <td>2/25/2015</td>\n",
       "      <td>180000.0</td>\n",
       "      <td>2</td>\n",
       "      <td>1.00</td>\n",
       "      <td>770</td>\n",
       "      <td>10000</td>\n",
       "      <td>1.0</td>\n",
       "      <td>0.0</td>\n",
       "      <td>0.0</td>\n",
       "      <td>...</td>\n",
       "      <td>6</td>\n",
       "      <td>770</td>\n",
       "      <td>0.0</td>\n",
       "      <td>1933</td>\n",
       "      <td>NaN</td>\n",
       "      <td>98028</td>\n",
       "      <td>47.7379</td>\n",
       "      <td>-122.233</td>\n",
       "      <td>2720</td>\n",
       "      <td>8062</td>\n",
       "    </tr>\n",
       "    <tr>\n",
       "      <th>3</th>\n",
       "      <td>2487200875</td>\n",
       "      <td>12/9/2014</td>\n",
       "      <td>604000.0</td>\n",
       "      <td>4</td>\n",
       "      <td>3.00</td>\n",
       "      <td>1960</td>\n",
       "      <td>5000</td>\n",
       "      <td>1.0</td>\n",
       "      <td>0.0</td>\n",
       "      <td>0.0</td>\n",
       "      <td>...</td>\n",
       "      <td>7</td>\n",
       "      <td>1050</td>\n",
       "      <td>910.0</td>\n",
       "      <td>1965</td>\n",
       "      <td>0.0</td>\n",
       "      <td>98136</td>\n",
       "      <td>47.5208</td>\n",
       "      <td>-122.393</td>\n",
       "      <td>1360</td>\n",
       "      <td>5000</td>\n",
       "    </tr>\n",
       "    <tr>\n",
       "      <th>4</th>\n",
       "      <td>1954400510</td>\n",
       "      <td>2/18/2015</td>\n",
       "      <td>510000.0</td>\n",
       "      <td>3</td>\n",
       "      <td>2.00</td>\n",
       "      <td>1680</td>\n",
       "      <td>8080</td>\n",
       "      <td>1.0</td>\n",
       "      <td>0.0</td>\n",
       "      <td>0.0</td>\n",
       "      <td>...</td>\n",
       "      <td>8</td>\n",
       "      <td>1680</td>\n",
       "      <td>0.0</td>\n",
       "      <td>1987</td>\n",
       "      <td>0.0</td>\n",
       "      <td>98074</td>\n",
       "      <td>47.6168</td>\n",
       "      <td>-122.045</td>\n",
       "      <td>1800</td>\n",
       "      <td>7503</td>\n",
       "    </tr>\n",
       "  </tbody>\n",
       "</table>\n",
       "<p>5 rows × 21 columns</p>\n",
       "</div>"
      ],
      "text/plain": [
       "           id        date     price  bedrooms  bathrooms  sqft_living  \\\n",
       "0  7129300520  10/13/2014  221900.0         3       1.00         1180   \n",
       "1  6414100192   12/9/2014  538000.0         3       2.25         2570   \n",
       "2  5631500400   2/25/2015  180000.0         2       1.00          770   \n",
       "3  2487200875   12/9/2014  604000.0         4       3.00         1960   \n",
       "4  1954400510   2/18/2015  510000.0         3       2.00         1680   \n",
       "\n",
       "   sqft_lot  floors  waterfront  view  ...  grade  sqft_above  sqft_basement  \\\n",
       "0      5650     1.0         NaN   0.0  ...      7        1180            0.0   \n",
       "1      7242     2.0         0.0   0.0  ...      7        2170          400.0   \n",
       "2     10000     1.0         0.0   0.0  ...      6         770            0.0   \n",
       "3      5000     1.0         0.0   0.0  ...      7        1050          910.0   \n",
       "4      8080     1.0         0.0   0.0  ...      8        1680            0.0   \n",
       "\n",
       "  yr_built  yr_renovated  zipcode      lat     long  sqft_living15  sqft_lot15  \n",
       "0     1955           0.0    98178  47.5112 -122.257           1340        5650  \n",
       "1     1951        1991.0    98125  47.7210 -122.319           1690        7639  \n",
       "2     1933           NaN    98028  47.7379 -122.233           2720        8062  \n",
       "3     1965           0.0    98136  47.5208 -122.393           1360        5000  \n",
       "4     1987           0.0    98074  47.6168 -122.045           1800        7503  \n",
       "\n",
       "[5 rows x 21 columns]"
      ]
     },
     "execution_count": 2,
     "metadata": {},
     "output_type": "execute_result"
    }
   ],
   "source": [
    "df = pd.read_csv('kc_house_data.csv')\n",
    "df.head()"
   ]
  },
  {
   "cell_type": "markdown",
   "metadata": {
    "ExecuteTime": {
     "end_time": "2020-09-05T06:08:36.971843Z",
     "start_time": "2020-09-05T06:08:36.956836Z"
    }
   },
   "source": [
    "<div class=\"shadow alert alert-warning\">\n",
    "    <strong>From the Head:</strong> \n",
    "    <ul><li>Looks like we have some null values in water front. I'm going to do a blanket and fill the null values with the mode.</li><li>There is also an issue with nulls sqft_basement that has a '?' in the data rather than a null<li>Doesn't look like we can use date or id for our regression so we'll get rid of them</li></ul\n",
    "</div>"
   ]
  },
  {
   "cell_type": "markdown",
   "metadata": {
    "ExecuteTime": {
     "end_time": "2020-09-05T06:21:24.928163Z",
     "start_time": "2020-09-05T06:21:24.915001Z"
    }
   },
   "source": [
    "### Dropping Useless Columns"
   ]
  },
  {
   "cell_type": "code",
   "execution_count": 3,
   "metadata": {
    "ExecuteTime": {
     "end_time": "2020-09-05T07:27:53.996047Z",
     "start_time": "2020-09-05T07:27:53.982046Z"
    }
   },
   "outputs": [],
   "source": [
    "df.drop(['id', 'date'], axis=1, inplace=True)"
   ]
  },
  {
   "cell_type": "code",
   "execution_count": 4,
   "metadata": {
    "ExecuteTime": {
     "end_time": "2020-09-05T07:27:54.012045Z",
     "start_time": "2020-09-05T07:27:53.997047Z"
    }
   },
   "outputs": [
    {
     "data": {
      "text/plain": [
       "0.0       12826\n",
       "?           454\n",
       "600.0       217\n",
       "500.0       209\n",
       "700.0       208\n",
       "          ...  \n",
       "1135.0        1\n",
       "518.0         1\n",
       "1481.0        1\n",
       "4820.0        1\n",
       "2570.0        1\n",
       "Name: sqft_basement, Length: 304, dtype: int64"
      ]
     },
     "execution_count": 4,
     "metadata": {},
     "output_type": "execute_result"
    }
   ],
   "source": [
    "df.sqft_basement.value_counts()"
   ]
  },
  {
   "cell_type": "markdown",
   "metadata": {},
   "source": [
    "### Cleaning sqft_basement"
   ]
  },
  {
   "cell_type": "code",
   "execution_count": 5,
   "metadata": {
    "ExecuteTime": {
     "end_time": "2020-09-05T07:27:54.028045Z",
     "start_time": "2020-09-05T07:27:54.013049Z"
    }
   },
   "outputs": [],
   "source": [
    "df.sqft_basement = df.sqft_basement.apply(lambda x: 0 if x=='?' else x).astype('float')"
   ]
  },
  {
   "cell_type": "markdown",
   "metadata": {},
   "source": [
    "<div class=\"shadow alert alert-info\">\n",
    "  <strong>Cleaning basement</strong><ul><li>Here we apply a lambda statement to make the value in the column 0 if that value is '?' <li>else we keep it the same.</li>  <li>Next we make it of type 'float' and assign the actual column to the applied column</li></ul>\n",
    "</div>"
   ]
  },
  {
   "cell_type": "code",
   "execution_count": 6,
   "metadata": {
    "ExecuteTime": {
     "end_time": "2020-09-05T07:27:54.044047Z",
     "start_time": "2020-09-05T07:27:54.029047Z"
    }
   },
   "outputs": [
    {
     "data": {
      "text/plain": [
       "0.0       13280\n",
       "600.0       217\n",
       "500.0       209\n",
       "700.0       208\n",
       "800.0       201\n",
       "          ...  \n",
       "915.0         1\n",
       "295.0         1\n",
       "1281.0        1\n",
       "2130.0        1\n",
       "906.0         1\n",
       "Name: sqft_basement, Length: 303, dtype: int64"
      ]
     },
     "execution_count": 6,
     "metadata": {},
     "output_type": "execute_result"
    }
   ],
   "source": [
    "df.sqft_basement.value_counts()"
   ]
  },
  {
   "cell_type": "markdown",
   "metadata": {},
   "source": [
    "<div class=\"shadow alert alert-success\">\n",
    "    <strong>Fixed!</strong><ul><li>Next we will check the quantity of null values</li></ul\n",
    "</div>"
   ]
  },
  {
   "cell_type": "markdown",
   "metadata": {},
   "source": [
    "### Checking Nulls"
   ]
  },
  {
   "cell_type": "code",
   "execution_count": 7,
   "metadata": {
    "ExecuteTime": {
     "end_time": "2020-09-05T07:27:54.060050Z",
     "start_time": "2020-09-05T07:27:54.045047Z"
    }
   },
   "outputs": [
    {
     "data": {
      "text/plain": [
       "price               0\n",
       "long                0\n",
       "lat                 0\n",
       "zipcode             0\n",
       "yr_built            0\n",
       "sqft_basement       0\n",
       "sqft_above          0\n",
       "sqft_living15       0\n",
       "grade               0\n",
       "floors              0\n",
       "sqft_lot            0\n",
       "sqft_living         0\n",
       "bathrooms           0\n",
       "bedrooms            0\n",
       "condition           0\n",
       "sqft_lot15          0\n",
       "view               63\n",
       "waterfront       2376\n",
       "yr_renovated     3842\n",
       "dtype: int64"
      ]
     },
     "execution_count": 7,
     "metadata": {},
     "output_type": "execute_result"
    }
   ],
   "source": [
    "nulls = df.isna().sum()\n",
    "nulls.sort_values(ascending=True)"
   ]
  },
  {
   "cell_type": "markdown",
   "metadata": {
    "ExecuteTime": {
     "end_time": "2020-09-05T06:18:53.438289Z",
     "start_time": "2020-09-05T06:18:53.430298Z"
    }
   },
   "source": [
    "<div class=\"shadow alert alert-info\">\n",
    "  <strong>A few null values!</strong><ul><li>63 nulls in view</li><li>2,376 nulls in waterfront</li><li>3,842 nulls in yr_renovated</li></ul>\n",
    "</div>"
   ]
  },
  {
   "cell_type": "markdown",
   "metadata": {},
   "source": [
    "### Filling Null Values with Mode"
   ]
  },
  {
   "cell_type": "markdown",
   "metadata": {},
   "source": [
    "#### Showing the percentage each column is null of the entire database."
   ]
  },
  {
   "cell_type": "code",
   "execution_count": 8,
   "metadata": {
    "ExecuteTime": {
     "end_time": "2020-09-05T07:27:54.076057Z",
     "start_time": "2020-09-05T07:27:54.062046Z"
    }
   },
   "outputs": [
    {
     "data": {
      "text/plain": [
       "waterfront      0.110015\n",
       "view            0.002917\n",
       "yr_renovated    0.177895\n",
       "dtype: float64"
      ]
     },
     "execution_count": 8,
     "metadata": {},
     "output_type": "execute_result"
    }
   ],
   "source": [
    "null_perc = nulls[nulls>0]/len(df)\n",
    "null_perc"
   ]
  },
  {
   "cell_type": "markdown",
   "metadata": {},
   "source": [
    "#### Pulling out the index of null_perc for columns with any nulls"
   ]
  },
  {
   "cell_type": "code",
   "execution_count": 9,
   "metadata": {
    "ExecuteTime": {
     "end_time": "2020-09-05T07:27:54.092054Z",
     "start_time": "2020-09-05T07:27:54.077057Z"
    }
   },
   "outputs": [
    {
     "data": {
      "text/plain": [
       "['waterfront', 'view', 'yr_renovated']"
      ]
     },
     "execution_count": 9,
     "metadata": {},
     "output_type": "execute_result"
    }
   ],
   "source": [
    "null_cols = list(null_perc.index)\n",
    "null_cols"
   ]
  },
  {
   "cell_type": "markdown",
   "metadata": {},
   "source": [
    "#### Getting the mode for each of the null containing columns"
   ]
  },
  {
   "cell_type": "code",
   "execution_count": 10,
   "metadata": {
    "ExecuteTime": {
     "end_time": "2020-09-05T07:27:54.107056Z",
     "start_time": "2020-09-05T07:27:54.093057Z"
    }
   },
   "outputs": [
    {
     "data": {
      "text/plain": [
       "{'waterfront': 0    0.0\n",
       " Name: waterfront, dtype: float64, 'view': 0    0.0\n",
       " Name: view, dtype: float64, 'yr_renovated': 0    0.0\n",
       " Name: yr_renovated, dtype: float64}"
      ]
     },
     "execution_count": 10,
     "metadata": {},
     "output_type": "execute_result"
    }
   ],
   "source": [
    "null_modes = dict(df[null_cols].mode())\n",
    "null_modes"
   ]
  },
  {
   "cell_type": "markdown",
   "metadata": {
    "ExecuteTime": {
     "end_time": "2020-09-05T06:27:28.176419Z",
     "start_time": "2020-09-05T06:27:28.160420Z"
    }
   },
   "source": [
    "<div class=\"shadow alert alert-warning\">\n",
    "  <strong>All 0.0!</strong> <ul><li>Seems that all of the null column's nulls are 0, we can simply use fillna(0).</li><li>Normally we would use the below for loop to fill with the mode, but this way you can see both methods.</li></ul>\n",
    "<code>for col, mode in null_modes.items():\n",
    "    self[col] = self[col].fillna(mode[0])</code>\n",
    "\n",
    "</div>"
   ]
  },
  {
   "cell_type": "code",
   "execution_count": 11,
   "metadata": {
    "ExecuteTime": {
     "end_time": "2020-09-05T07:27:54.122056Z",
     "start_time": "2020-09-05T07:27:54.108057Z"
    }
   },
   "outputs": [],
   "source": [
    "df.fillna(0, inplace=True)"
   ]
  },
  {
   "cell_type": "markdown",
   "metadata": {
    "ExecuteTime": {
     "end_time": "2020-09-05T06:30:25.980474Z",
     "start_time": "2020-09-05T06:30:25.972389Z"
    }
   },
   "source": [
    "#### Showing the null values again!"
   ]
  },
  {
   "cell_type": "code",
   "execution_count": 12,
   "metadata": {
    "ExecuteTime": {
     "end_time": "2020-09-05T07:27:54.137056Z",
     "start_time": "2020-09-05T07:27:54.123057Z"
    }
   },
   "outputs": [],
   "source": [
    "nulls = df.isna().sum()"
   ]
  },
  {
   "cell_type": "code",
   "execution_count": 13,
   "metadata": {
    "ExecuteTime": {
     "end_time": "2020-09-05T07:27:54.152055Z",
     "start_time": "2020-09-05T07:27:54.138057Z"
    }
   },
   "outputs": [
    {
     "data": {
      "text/plain": [
       "Series([], dtype: float64)"
      ]
     },
     "execution_count": 13,
     "metadata": {},
     "output_type": "execute_result"
    }
   ],
   "source": [
    "null_perc = nulls[nulls>0]/len(df)\n",
    "null_perc"
   ]
  },
  {
   "cell_type": "markdown",
   "metadata": {
    "ExecuteTime": {
     "end_time": "2020-09-05T06:32:13.860112Z",
     "start_time": "2020-09-05T06:32:13.844112Z"
    }
   },
   "source": [
    "<div class=\"shadow alert alert-success\">\n",
    "  <strong>Success!</strong> No nulls left, time to model and plot the model's residuals\n",
    "</div>"
   ]
  },
  {
   "cell_type": "markdown",
   "metadata": {},
   "source": [
    "## First Model!"
   ]
  },
  {
   "cell_type": "markdown",
   "metadata": {},
   "source": [
    "### Preparing the Columns"
   ]
  },
  {
   "cell_type": "code",
   "execution_count": 14,
   "metadata": {
    "ExecuteTime": {
     "end_time": "2020-09-05T07:27:54.168054Z",
     "start_time": "2020-09-05T07:27:54.153057Z"
    }
   },
   "outputs": [
    {
     "data": {
      "text/plain": [
       "'price~bedrooms+bathrooms+sqft_living+sqft_lot+floors+waterfront+view+condition+grade+sqft_above+sqft_basement+yr_built+yr_renovated+zipcode+lat+long+sqft_living15+sqft_lot15'"
      ]
     },
     "execution_count": 14,
     "metadata": {},
     "output_type": "execute_result"
    }
   ],
   "source": [
    "# The target is the column we are trying to predict\n",
    "target = 'price'\n",
    "\n",
    "# First we remove the target column, i.e 'price' and get the column names\n",
    "# that are left\n",
    "columns = df.drop(target, axis=1).columns\n",
    "\n",
    "# Making the formula in the form ( target ~ col1 + col2 + col3 )\n",
    "# This formula is fed to the statsmodels.formula.api.ols\n",
    "cols_form = '+'.join(columns)\n",
    "formula = '%s~%s' % (target, cols_form)\n",
    "formula"
   ]
  },
  {
   "cell_type": "markdown",
   "metadata": {},
   "source": [
    "### Modeling"
   ]
  },
  {
   "cell_type": "code",
   "execution_count": 15,
   "metadata": {
    "ExecuteTime": {
     "end_time": "2020-09-05T07:27:54.216126Z",
     "start_time": "2020-09-05T07:27:54.169056Z"
    }
   },
   "outputs": [],
   "source": [
    "model = smf.ols(formula=formula, data=df).fit()"
   ]
  },
  {
   "cell_type": "code",
   "execution_count": 16,
   "metadata": {
    "ExecuteTime": {
     "end_time": "2020-09-05T07:27:54.247127Z",
     "start_time": "2020-09-05T07:27:54.217129Z"
    }
   },
   "outputs": [
    {
     "data": {
      "text/html": [
       "<table class=\"simpletable\">\n",
       "<caption>OLS Regression Results</caption>\n",
       "<tr>\n",
       "  <th>Dep. Variable:</th>          <td>price</td>      <th>  R-squared:         </th>  <td>   0.700</td>  \n",
       "</tr>\n",
       "<tr>\n",
       "  <th>Model:</th>                   <td>OLS</td>       <th>  Adj. R-squared:    </th>  <td>   0.700</td>  \n",
       "</tr>\n",
       "<tr>\n",
       "  <th>Method:</th>             <td>Least Squares</td>  <th>  F-statistic:       </th>  <td>   2798.</td>  \n",
       "</tr>\n",
       "<tr>\n",
       "  <th>Date:</th>             <td>Sat, 05 Sep 2020</td> <th>  Prob (F-statistic):</th>   <td>  0.00</td>   \n",
       "</tr>\n",
       "<tr>\n",
       "  <th>Time:</th>                 <td>02:27:54</td>     <th>  Log-Likelihood:    </th> <td>-2.9439e+05</td>\n",
       "</tr>\n",
       "<tr>\n",
       "  <th>No. Observations:</th>      <td> 21597</td>      <th>  AIC:               </th>  <td>5.888e+05</td> \n",
       "</tr>\n",
       "<tr>\n",
       "  <th>Df Residuals:</th>          <td> 21578</td>      <th>  BIC:               </th>  <td>5.890e+05</td> \n",
       "</tr>\n",
       "<tr>\n",
       "  <th>Df Model:</th>              <td>    18</td>      <th>                     </th>      <td> </td>     \n",
       "</tr>\n",
       "<tr>\n",
       "  <th>Covariance Type:</th>      <td>nonrobust</td>    <th>                     </th>      <td> </td>     \n",
       "</tr>\n",
       "</table>\n",
       "<table class=\"simpletable\">\n",
       "<tr>\n",
       "        <td></td>           <th>coef</th>     <th>std err</th>      <th>t</th>      <th>P>|t|</th>  <th>[0.025</th>    <th>0.975]</th>  \n",
       "</tr>\n",
       "<tr>\n",
       "  <th>Intercept</th>     <td> 6.656e+06</td> <td> 2.93e+06</td> <td>    2.271</td> <td> 0.023</td> <td> 9.12e+05</td> <td> 1.24e+07</td>\n",
       "</tr>\n",
       "<tr>\n",
       "  <th>bedrooms</th>      <td>-3.589e+04</td> <td> 1900.636</td> <td>  -18.882</td> <td> 0.000</td> <td>-3.96e+04</td> <td>-3.22e+04</td>\n",
       "</tr>\n",
       "<tr>\n",
       "  <th>bathrooms</th>     <td> 4.162e+04</td> <td> 3262.735</td> <td>   12.755</td> <td> 0.000</td> <td> 3.52e+04</td> <td>  4.8e+04</td>\n",
       "</tr>\n",
       "<tr>\n",
       "  <th>sqft_living</th>   <td>  102.8320</td> <td>   18.076</td> <td>    5.689</td> <td> 0.000</td> <td>   67.401</td> <td>  138.263</td>\n",
       "</tr>\n",
       "<tr>\n",
       "  <th>sqft_lot</th>      <td>    0.1281</td> <td>    0.048</td> <td>    2.673</td> <td> 0.008</td> <td>    0.034</td> <td>    0.222</td>\n",
       "</tr>\n",
       "<tr>\n",
       "  <th>floors</th>        <td> 7000.6499</td> <td> 3600.684</td> <td>    1.944</td> <td> 0.052</td> <td>  -56.956</td> <td> 1.41e+04</td>\n",
       "</tr>\n",
       "<tr>\n",
       "  <th>waterfront</th>    <td> 6.181e+05</td> <td> 1.81e+04</td> <td>   34.082</td> <td> 0.000</td> <td> 5.83e+05</td> <td> 6.54e+05</td>\n",
       "</tr>\n",
       "<tr>\n",
       "  <th>view</th>          <td> 5.329e+04</td> <td> 2122.073</td> <td>   25.111</td> <td> 0.000</td> <td> 4.91e+04</td> <td> 5.74e+04</td>\n",
       "</tr>\n",
       "<tr>\n",
       "  <th>condition</th>     <td> 2.685e+04</td> <td> 2346.458</td> <td>   11.443</td> <td> 0.000</td> <td> 2.23e+04</td> <td> 3.15e+04</td>\n",
       "</tr>\n",
       "<tr>\n",
       "  <th>grade</th>         <td> 9.691e+04</td> <td> 2160.604</td> <td>   44.853</td> <td> 0.000</td> <td> 9.27e+04</td> <td> 1.01e+05</td>\n",
       "</tr>\n",
       "<tr>\n",
       "  <th>sqft_above</th>    <td>   78.0057</td> <td>   18.067</td> <td>    4.318</td> <td> 0.000</td> <td>   42.593</td> <td>  113.419</td>\n",
       "</tr>\n",
       "<tr>\n",
       "  <th>sqft_basement</th> <td>   47.6352</td> <td>   17.907</td> <td>    2.660</td> <td> 0.008</td> <td>   12.537</td> <td>   82.734</td>\n",
       "</tr>\n",
       "<tr>\n",
       "  <th>yr_built</th>      <td>-2637.5367</td> <td>   71.932</td> <td>  -36.667</td> <td> 0.000</td> <td>-2778.528</td> <td>-2496.545</td>\n",
       "</tr>\n",
       "<tr>\n",
       "  <th>yr_renovated</th>  <td>   23.5856</td> <td>    3.977</td> <td>    5.930</td> <td> 0.000</td> <td>   15.790</td> <td>   31.381</td>\n",
       "</tr>\n",
       "<tr>\n",
       "  <th>zipcode</th>       <td> -584.4582</td> <td>   32.991</td> <td>  -17.716</td> <td> 0.000</td> <td> -649.122</td> <td> -519.794</td>\n",
       "</tr>\n",
       "<tr>\n",
       "  <th>lat</th>           <td> 6.007e+05</td> <td> 1.07e+04</td> <td>   55.939</td> <td> 0.000</td> <td>  5.8e+05</td> <td> 6.22e+05</td>\n",
       "</tr>\n",
       "<tr>\n",
       "  <th>long</th>          <td>-2.177e+05</td> <td> 1.32e+04</td> <td>  -16.546</td> <td> 0.000</td> <td>-2.43e+05</td> <td>-1.92e+05</td>\n",
       "</tr>\n",
       "<tr>\n",
       "  <th>sqft_living15</th> <td>   21.5139</td> <td>    3.451</td> <td>    6.235</td> <td> 0.000</td> <td>   14.751</td> <td>   28.277</td>\n",
       "</tr>\n",
       "<tr>\n",
       "  <th>sqft_lot15</th>    <td>   -0.3877</td> <td>    0.073</td> <td>   -5.285</td> <td> 0.000</td> <td>   -0.531</td> <td>   -0.244</td>\n",
       "</tr>\n",
       "</table>\n",
       "<table class=\"simpletable\">\n",
       "<tr>\n",
       "  <th>Omnibus:</th>       <td>18343.380</td> <th>  Durbin-Watson:     </th>  <td>   1.989</td>  \n",
       "</tr>\n",
       "<tr>\n",
       "  <th>Prob(Omnibus):</th>  <td> 0.000</td>   <th>  Jarque-Bera (JB):  </th> <td>1833646.592</td>\n",
       "</tr>\n",
       "<tr>\n",
       "  <th>Skew:</th>           <td> 3.563</td>   <th>  Prob(JB):          </th>  <td>    0.00</td>  \n",
       "</tr>\n",
       "<tr>\n",
       "  <th>Kurtosis:</th>       <td>47.575</td>   <th>  Cond. No.          </th>  <td>2.15e+08</td>  \n",
       "</tr>\n",
       "</table><br/><br/>Warnings:<br/>[1] Standard Errors assume that the covariance matrix of the errors is correctly specified.<br/>[2] The condition number is large, 2.15e+08. This might indicate that there are<br/>strong multicollinearity or other numerical problems."
      ],
      "text/plain": [
       "<class 'statsmodels.iolib.summary.Summary'>\n",
       "\"\"\"\n",
       "                            OLS Regression Results                            \n",
       "==============================================================================\n",
       "Dep. Variable:                  price   R-squared:                       0.700\n",
       "Model:                            OLS   Adj. R-squared:                  0.700\n",
       "Method:                 Least Squares   F-statistic:                     2798.\n",
       "Date:                Sat, 05 Sep 2020   Prob (F-statistic):               0.00\n",
       "Time:                        02:27:54   Log-Likelihood:            -2.9439e+05\n",
       "No. Observations:               21597   AIC:                         5.888e+05\n",
       "Df Residuals:                   21578   BIC:                         5.890e+05\n",
       "Df Model:                          18                                         \n",
       "Covariance Type:            nonrobust                                         \n",
       "=================================================================================\n",
       "                    coef    std err          t      P>|t|      [0.025      0.975]\n",
       "---------------------------------------------------------------------------------\n",
       "Intercept      6.656e+06   2.93e+06      2.271      0.023    9.12e+05    1.24e+07\n",
       "bedrooms      -3.589e+04   1900.636    -18.882      0.000   -3.96e+04   -3.22e+04\n",
       "bathrooms      4.162e+04   3262.735     12.755      0.000    3.52e+04     4.8e+04\n",
       "sqft_living     102.8320     18.076      5.689      0.000      67.401     138.263\n",
       "sqft_lot          0.1281      0.048      2.673      0.008       0.034       0.222\n",
       "floors         7000.6499   3600.684      1.944      0.052     -56.956    1.41e+04\n",
       "waterfront     6.181e+05   1.81e+04     34.082      0.000    5.83e+05    6.54e+05\n",
       "view           5.329e+04   2122.073     25.111      0.000    4.91e+04    5.74e+04\n",
       "condition      2.685e+04   2346.458     11.443      0.000    2.23e+04    3.15e+04\n",
       "grade          9.691e+04   2160.604     44.853      0.000    9.27e+04    1.01e+05\n",
       "sqft_above       78.0057     18.067      4.318      0.000      42.593     113.419\n",
       "sqft_basement    47.6352     17.907      2.660      0.008      12.537      82.734\n",
       "yr_built      -2637.5367     71.932    -36.667      0.000   -2778.528   -2496.545\n",
       "yr_renovated     23.5856      3.977      5.930      0.000      15.790      31.381\n",
       "zipcode        -584.4582     32.991    -17.716      0.000    -649.122    -519.794\n",
       "lat            6.007e+05   1.07e+04     55.939      0.000     5.8e+05    6.22e+05\n",
       "long          -2.177e+05   1.32e+04    -16.546      0.000   -2.43e+05   -1.92e+05\n",
       "sqft_living15    21.5139      3.451      6.235      0.000      14.751      28.277\n",
       "sqft_lot15       -0.3877      0.073     -5.285      0.000      -0.531      -0.244\n",
       "==============================================================================\n",
       "Omnibus:                    18343.380   Durbin-Watson:                   1.989\n",
       "Prob(Omnibus):                  0.000   Jarque-Bera (JB):          1833646.592\n",
       "Skew:                           3.563   Prob(JB):                         0.00\n",
       "Kurtosis:                      47.575   Cond. No.                     2.15e+08\n",
       "==============================================================================\n",
       "\n",
       "Warnings:\n",
       "[1] Standard Errors assume that the covariance matrix of the errors is correctly specified.\n",
       "[2] The condition number is large, 2.15e+08. This might indicate that there are\n",
       "strong multicollinearity or other numerical problems.\n",
       "\"\"\""
      ]
     },
     "execution_count": 16,
     "metadata": {},
     "output_type": "execute_result"
    }
   ],
   "source": [
    "model.summary()"
   ]
  },
  {
   "cell_type": "markdown",
   "metadata": {},
   "source": [
    "<div class=\"shadow alert alert-danger\">\n",
    "  <strong>Quick Note on the Summary:</strong><ul><li>Floors has a P-value of > .05, which to us that is not meeting a predictive assumption</li><li>Thus we would have to deal with that before making a future model</li></ul>\n",
    "</div>"
   ]
  },
  {
   "cell_type": "markdown",
   "metadata": {},
   "source": [
    "### Plotting the residuals\n",
    "> Before we can decipher a model, we need to see where the residuals lie"
   ]
  },
  {
   "cell_type": "markdown",
   "metadata": {
    "ExecuteTime": {
     "end_time": "2020-09-05T06:54:46.272436Z",
     "start_time": "2020-09-05T06:54:46.268446Z"
    }
   },
   "source": [
    "#### Model Residual QQ Plot"
   ]
  },
  {
   "cell_type": "code",
   "execution_count": 17,
   "metadata": {
    "ExecuteTime": {
     "end_time": "2020-09-05T07:27:54.420127Z",
     "start_time": "2020-09-05T07:27:54.248128Z"
    },
    "scrolled": true
   },
   "outputs": [
    {
     "data": {
      "image/png": "[encoded data removed]",
      "text/plain": [
       "<Figure size 432x288 with 1 Axes>"
      ]
     },
     "metadata": {
      "needs_background": "light"
     },
     "output_type": "display_data"
    }
   ],
   "source": [
    "qqplot = sm.graphics.qqplot(model.resid, fit=True, line='45')"
   ]
  },
  {
   "cell_type": "markdown",
   "metadata": {
    "ExecuteTime": {
     "end_time": "2020-09-05T06:53:29.415426Z",
     "start_time": "2020-09-05T06:53:29.398788Z"
    }
   },
   "source": [
    "<div class=\"shadow alert alert-info\">\n",
    "  <strong>From the plot:</strong><ul><li>The tail is almost straight down the line</li><li>The head on the other hand is shooting for the stars, while the line continues along the horizon</li></ul>\n",
    "</div>\n"
   ]
  },
  {
   "cell_type": "markdown",
   "metadata": {},
   "source": [
    "#### Model Residual Scatter Plot"
   ]
  },
  {
   "cell_type": "code",
   "execution_count": 18,
   "metadata": {
    "ExecuteTime": {
     "end_time": "2020-09-05T07:27:54.579145Z",
     "start_time": "2020-09-05T07:27:54.421129Z"
    }
   },
   "outputs": [
    {
     "data": {
      "text/plain": [
       "<matplotlib.lines.Line2D at 0x2006f26d9e8>"
      ]
     },
     "execution_count": 18,
     "metadata": {},
     "output_type": "execute_result"
    },
    {
     "data": {
      "image/png": "[encoded data removed]",
      "text/plain": [
       "<Figure size 432x288 with 1 Axes>"
      ]
     },
     "metadata": {
      "needs_background": "light"
     },
     "output_type": "display_data"
    }
   ],
   "source": [
    "plt.scatter(x=df[target], y=model.resid)\n",
    "plt.axhline(0, color='k')"
   ]
  },
  {
   "cell_type": "markdown",
   "metadata": {
    "ExecuteTime": {
     "end_time": "2020-09-05T06:49:38.435569Z",
     "start_time": "2020-09-05T06:49:38.420570Z"
    }
   },
   "source": [
    "<div class=\"shadow alert alert-info\">\n",
    "  <strong>Major </strong>lack of <a href=\"https://www.geeksforgeeks.org/heteroscedasticity-in-regression-analysis/\">homoscedasticity</a>, breaking our predictive assumption of the model\n",
    "</div>"
   ]
  },
  {
   "cell_type": "markdown",
   "metadata": {},
   "source": [
    "## Summary"
   ]
  },
  {
   "cell_type": "markdown",
   "metadata": {},
   "source": [
    "<div class=\"shadow alert alert-success\">\n",
    "    <b>From the Model and Residual Plots:</b>\n",
    "        <ul>\n",
    "            <li>R-squared of .7 shows the model predicts correctly 70% of the time <b>if</b> the plots lined up perfectly, thus fulfilling our assumptions perfectly</li>\n",
    "            <li>The QQ plot is skewed right indicating we need to do some normalization and outlier removal on the data. </li>\n",
    "            <li>The Residual Scatter plot shows a linear like shape.  We are aiming for homoscedasticity</li>\n",
    "            <li>There is only one high pvalue currently, but we still need to get out the categorical columns. i.e ( zipcode, view, floors ) </li>\n",
    "        </ul>\n",
    "    </div>"
   ]
  },
  {
   "cell_type": "code",
   "execution_count": 19,
   "metadata": {
    "ExecuteTime": {
     "end_time": "2020-09-05T07:27:54.594144Z",
     "start_time": "2020-09-05T07:27:54.580146Z"
    }
   },
   "outputs": [
    {
     "data": {
      "text/html": [
       "<style>\n",
       "    .shadowbox {\n",
       "      width: 40em;\n",
       "      border: 1px solid #333;\n",
       "      box-shadow: 8px 8px 5px #444;\n",
       "      padding: 8px 12px;\n",
       "      background-image: linear-gradient(180deg, black, rgb(107, 88, 88));\n",
       "      color: rgba(243, 218, 74, 0.801);\n",
       "      line-height: 25px;\n",
       "      position: static;\n",
       "    }\n",
       "    h2 {\n",
       "      width: 45em;\n",
       "      border: 1.5px solid #333;\n",
       "      /*box-shadow: 8px 8px 5px #444;*/\n",
       "      padding: 8px 12px;\n",
       "      background-image: linear-gradient(180deg, #fff, rgb(160, 147, 147));\n",
       "      position: static;\n",
       "    }\n",
       "    h3 {\n",
       "      width: 45em;\n",
       "      border: 1px solid #333;\n",
       "      /*box-shadow: 8px 8px 5px #444;*/\n",
       "      padding: 8px 12px;\n",
       "      background-image: linear-gradient(180deg, #fff, rgb(160, 147, 147));\n",
       "      position: relative;\n",
       "      right: -13px;\n",
       "    }\n",
       "    h4 {\n",
       "      width: 45em;\n",
       "      border: 0.5px solid #333;\n",
       "      /*box-shadow: 8px 8px 5px #444;*/\n",
       "      padding: 8px 12px;\n",
       "      background-image: linear-gradient(180deg, #fff, rgb(160, 147, 147));\n",
       "      position: relative;\n",
       "      right: -25px;\n",
       "    }\n",
       "    .shadow {\n",
       "      width: 45em;\n",
       "      box-shadow: 8px 8px 10px #444;\n",
       "      border: 1px solid silver;\n",
       "      margin-top: 2em;\n",
       "      position: relative;\n",
       "      top: -25px\n",
       "      \n",
       "    }\n",
       "    .package_header {\n",
       "      width: 100%;\n",
       "      background-color: #0e2b59;\n",
       "      color: #ffffff;\n",
       "      font-size: 14px;\n",
       "      text-align: center;\n",
       "      padding-top: 8px;\n",
       "      padding-right: 8px;\n",
       "      padding-bottom: 8px;\n",
       "      padding-left: 8px;\n",
       "  }\n",
       "  blockquote {\n",
       "    border: 1px groove gray;\n",
       "    background-color: rgb(219, 214, 214);\n",
       "  }\n",
       "</style>"
      ],
      "text/plain": [
       "<IPython.core.display.HTML object>"
      ]
     },
     "execution_count": 19,
     "metadata": {},
     "output_type": "execute_result"
    }
   ],
   "source": [
    "# Styling, ignore...\n",
    "\n",
    "from IPython.core.display import HTML\n",
    "def css_styling():\n",
    "    styles = open(\"./styles/custom.css\", \"r\").read()\n",
    "    return HTML(styles)\n",
    "css_styling()"
   ]
  }
 ],
 "metadata": {
  "kernelspec": {
   "display_name": "learn-env",
   "language": "python",
   "name": "learn-env"
  },
  "language_info": {
   "codemirror_mode": {
    "name": "ipython",
    "version": 3
   },
   "file_extension": ".py",
   "mimetype": "text/x-python",
   "name": "python",
   "nbconvert_exporter": "python",
   "pygments_lexer": "ipython3",
   "version": "3.6.9"
  },
  "toc": {
   "base_numbering": 1,
   "nav_menu": {},
   "number_sections": true,
   "sideBar": true,
   "skip_h1_title": false,
   "title_cell": "Table of Contents",
   "title_sidebar": "Contents",
   "toc_cell": true,
   "toc_position": {},
   "toc_section_display": true,
   "toc_window_display": false
  }
 },
 "nbformat": 4,
 "nbformat_minor": 2
}
