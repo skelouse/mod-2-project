{
 "cells": [
  {
   "cell_type": "markdown",
   "metadata": {},
   "source": [
    "## Final Project Submission\n",
    "\n",
    "Please fill out:\n",
    "* Student name: \n",
    "* Student pace: self paced / part time / full time\n",
    "* Scheduled project review date/time: \n",
    "* Instructor name: \n",
    "* Blog post URL:\n"
   ]
  },
  {
   "cell_type": "markdown",
   "metadata": {},
   "source": [
    "## Importing Libraries and Data"
   ]
  },
  {
   "cell_type": "markdown",
   "metadata": {},
   "source": [
    "> MLFrame is my own library included in the repo"
   ]
  },
  {
   "cell_type": "code",
   "execution_count": 1,
   "metadata": {
    "ExecuteTime": {
     "end_time": "2020-08-28T18:19:32.018309Z",
     "start_time": "2020-08-28T18:19:30.549308Z"
    }
   },
   "outputs": [],
   "source": [
    "# Your code here - remember to use markdown cells for comments as well!\n",
    "from mltools.mlframe import MLFrame\n",
    "import pandas as pd\n",
    "df = MLFrame(pd.read_csv('kc_house_data.csv'))\n",
    "pd.set_option('display.max_columns',0)\n",
    "pd.set_option('display.float_format', lambda x: '%.3f' % x)"
   ]
  },
  {
   "cell_type": "code",
   "execution_count": 2,
   "metadata": {
    "ExecuteTime": {
     "end_time": "2020-08-28T18:19:32.033310Z",
     "start_time": "2020-08-28T18:19:32.019311Z"
    }
   },
   "outputs": [],
   "source": [
    "df.drop('date', inplace=True, axis=1)"
   ]
  },
  {
   "cell_type": "code",
   "execution_count": 3,
   "metadata": {
    "ExecuteTime": {
     "end_time": "2020-08-28T18:19:32.049311Z",
     "start_time": "2020-08-28T18:19:32.034312Z"
    }
   },
   "outputs": [],
   "source": [
    "df['sqft_basement'] = df['sqft_basement'].apply(lambda x: x if x!='?' else 0)\n",
    "df['sqft_basement'] = df['sqft_basement'].astype(float)"
   ]
  },
  {
   "cell_type": "code",
   "execution_count": 4,
   "metadata": {
    "ExecuteTime": {
     "end_time": "2020-08-28T18:19:32.065308Z",
     "start_time": "2020-08-28T18:19:32.050312Z"
    }
   },
   "outputs": [],
   "source": [
    "df_ohe = MLFrame(df.one_hot_encode())"
   ]
  },
  {
   "cell_type": "code",
   "execution_count": 5,
   "metadata": {
    "ExecuteTime": {
     "end_time": "2020-08-28T18:19:32.113309Z",
     "start_time": "2020-08-28T18:19:32.066311Z"
    }
   },
   "outputs": [
    {
     "data": {
      "text/html": [
       "<div>\n",
       "<style scoped>\n",
       "    .dataframe tbody tr th:only-of-type {\n",
       "        vertical-align: middle;\n",
       "    }\n",
       "\n",
       "    .dataframe tbody tr th {\n",
       "        vertical-align: top;\n",
       "    }\n",
       "\n",
       "    .dataframe thead th {\n",
       "        text-align: right;\n",
       "    }\n",
       "</style>\n",
       "<table border=\"1\" class=\"dataframe\">\n",
       "  <thead>\n",
       "    <tr style=\"text-align: right;\">\n",
       "      <th></th>\n",
       "      <th>id</th>\n",
       "      <th>price</th>\n",
       "      <th>bedrooms</th>\n",
       "      <th>bathrooms</th>\n",
       "      <th>sqft_living</th>\n",
       "      <th>sqft_lot</th>\n",
       "      <th>floors</th>\n",
       "      <th>waterfront</th>\n",
       "      <th>view</th>\n",
       "      <th>condition</th>\n",
       "      <th>grade</th>\n",
       "      <th>sqft_above</th>\n",
       "      <th>sqft_basement</th>\n",
       "      <th>yr_built</th>\n",
       "      <th>yr_renovated</th>\n",
       "      <th>zipcode</th>\n",
       "      <th>lat</th>\n",
       "      <th>long</th>\n",
       "      <th>sqft_living15</th>\n",
       "      <th>sqft_lot15</th>\n",
       "    </tr>\n",
       "  </thead>\n",
       "  <tbody>\n",
       "    <tr>\n",
       "      <td>0</td>\n",
       "      <td>7129300520</td>\n",
       "      <td>221900.000</td>\n",
       "      <td>3</td>\n",
       "      <td>1.000</td>\n",
       "      <td>1180</td>\n",
       "      <td>5650</td>\n",
       "      <td>1.000</td>\n",
       "      <td>nan</td>\n",
       "      <td>0.000</td>\n",
       "      <td>3</td>\n",
       "      <td>7</td>\n",
       "      <td>1180</td>\n",
       "      <td>0.000</td>\n",
       "      <td>1955</td>\n",
       "      <td>0.000</td>\n",
       "      <td>98178</td>\n",
       "      <td>47.511</td>\n",
       "      <td>-122.257</td>\n",
       "      <td>1340</td>\n",
       "      <td>5650</td>\n",
       "    </tr>\n",
       "    <tr>\n",
       "      <td>1</td>\n",
       "      <td>6414100192</td>\n",
       "      <td>538000.000</td>\n",
       "      <td>3</td>\n",
       "      <td>2.250</td>\n",
       "      <td>2570</td>\n",
       "      <td>7242</td>\n",
       "      <td>2.000</td>\n",
       "      <td>0.000</td>\n",
       "      <td>0.000</td>\n",
       "      <td>3</td>\n",
       "      <td>7</td>\n",
       "      <td>2170</td>\n",
       "      <td>400.000</td>\n",
       "      <td>1951</td>\n",
       "      <td>1991.000</td>\n",
       "      <td>98125</td>\n",
       "      <td>47.721</td>\n",
       "      <td>-122.319</td>\n",
       "      <td>1690</td>\n",
       "      <td>7639</td>\n",
       "    </tr>\n",
       "    <tr>\n",
       "      <td>2</td>\n",
       "      <td>5631500400</td>\n",
       "      <td>180000.000</td>\n",
       "      <td>2</td>\n",
       "      <td>1.000</td>\n",
       "      <td>770</td>\n",
       "      <td>10000</td>\n",
       "      <td>1.000</td>\n",
       "      <td>0.000</td>\n",
       "      <td>0.000</td>\n",
       "      <td>3</td>\n",
       "      <td>6</td>\n",
       "      <td>770</td>\n",
       "      <td>0.000</td>\n",
       "      <td>1933</td>\n",
       "      <td>nan</td>\n",
       "      <td>98028</td>\n",
       "      <td>47.738</td>\n",
       "      <td>-122.233</td>\n",
       "      <td>2720</td>\n",
       "      <td>8062</td>\n",
       "    </tr>\n",
       "    <tr>\n",
       "      <td>3</td>\n",
       "      <td>2487200875</td>\n",
       "      <td>604000.000</td>\n",
       "      <td>4</td>\n",
       "      <td>3.000</td>\n",
       "      <td>1960</td>\n",
       "      <td>5000</td>\n",
       "      <td>1.000</td>\n",
       "      <td>0.000</td>\n",
       "      <td>0.000</td>\n",
       "      <td>5</td>\n",
       "      <td>7</td>\n",
       "      <td>1050</td>\n",
       "      <td>910.000</td>\n",
       "      <td>1965</td>\n",
       "      <td>0.000</td>\n",
       "      <td>98136</td>\n",
       "      <td>47.521</td>\n",
       "      <td>-122.393</td>\n",
       "      <td>1360</td>\n",
       "      <td>5000</td>\n",
       "    </tr>\n",
       "    <tr>\n",
       "      <td>4</td>\n",
       "      <td>1954400510</td>\n",
       "      <td>510000.000</td>\n",
       "      <td>3</td>\n",
       "      <td>2.000</td>\n",
       "      <td>1680</td>\n",
       "      <td>8080</td>\n",
       "      <td>1.000</td>\n",
       "      <td>0.000</td>\n",
       "      <td>0.000</td>\n",
       "      <td>3</td>\n",
       "      <td>8</td>\n",
       "      <td>1680</td>\n",
       "      <td>0.000</td>\n",
       "      <td>1987</td>\n",
       "      <td>0.000</td>\n",
       "      <td>98074</td>\n",
       "      <td>47.617</td>\n",
       "      <td>-122.045</td>\n",
       "      <td>1800</td>\n",
       "      <td>7503</td>\n",
       "    </tr>\n",
       "    <tr>\n",
       "      <td>...</td>\n",
       "      <td>...</td>\n",
       "      <td>...</td>\n",
       "      <td>...</td>\n",
       "      <td>...</td>\n",
       "      <td>...</td>\n",
       "      <td>...</td>\n",
       "      <td>...</td>\n",
       "      <td>...</td>\n",
       "      <td>...</td>\n",
       "      <td>...</td>\n",
       "      <td>...</td>\n",
       "      <td>...</td>\n",
       "      <td>...</td>\n",
       "      <td>...</td>\n",
       "      <td>...</td>\n",
       "      <td>...</td>\n",
       "      <td>...</td>\n",
       "      <td>...</td>\n",
       "      <td>...</td>\n",
       "      <td>...</td>\n",
       "    </tr>\n",
       "    <tr>\n",
       "      <td>21592</td>\n",
       "      <td>263000018</td>\n",
       "      <td>360000.000</td>\n",
       "      <td>3</td>\n",
       "      <td>2.500</td>\n",
       "      <td>1530</td>\n",
       "      <td>1131</td>\n",
       "      <td>3.000</td>\n",
       "      <td>0.000</td>\n",
       "      <td>0.000</td>\n",
       "      <td>3</td>\n",
       "      <td>8</td>\n",
       "      <td>1530</td>\n",
       "      <td>0.000</td>\n",
       "      <td>2009</td>\n",
       "      <td>0.000</td>\n",
       "      <td>98103</td>\n",
       "      <td>47.699</td>\n",
       "      <td>-122.346</td>\n",
       "      <td>1530</td>\n",
       "      <td>1509</td>\n",
       "    </tr>\n",
       "    <tr>\n",
       "      <td>21593</td>\n",
       "      <td>6600060120</td>\n",
       "      <td>400000.000</td>\n",
       "      <td>4</td>\n",
       "      <td>2.500</td>\n",
       "      <td>2310</td>\n",
       "      <td>5813</td>\n",
       "      <td>2.000</td>\n",
       "      <td>0.000</td>\n",
       "      <td>0.000</td>\n",
       "      <td>3</td>\n",
       "      <td>8</td>\n",
       "      <td>2310</td>\n",
       "      <td>0.000</td>\n",
       "      <td>2014</td>\n",
       "      <td>0.000</td>\n",
       "      <td>98146</td>\n",
       "      <td>47.511</td>\n",
       "      <td>-122.362</td>\n",
       "      <td>1830</td>\n",
       "      <td>7200</td>\n",
       "    </tr>\n",
       "    <tr>\n",
       "      <td>21594</td>\n",
       "      <td>1523300141</td>\n",
       "      <td>402101.000</td>\n",
       "      <td>2</td>\n",
       "      <td>0.750</td>\n",
       "      <td>1020</td>\n",
       "      <td>1350</td>\n",
       "      <td>2.000</td>\n",
       "      <td>0.000</td>\n",
       "      <td>0.000</td>\n",
       "      <td>3</td>\n",
       "      <td>7</td>\n",
       "      <td>1020</td>\n",
       "      <td>0.000</td>\n",
       "      <td>2009</td>\n",
       "      <td>0.000</td>\n",
       "      <td>98144</td>\n",
       "      <td>47.594</td>\n",
       "      <td>-122.299</td>\n",
       "      <td>1020</td>\n",
       "      <td>2007</td>\n",
       "    </tr>\n",
       "    <tr>\n",
       "      <td>21595</td>\n",
       "      <td>291310100</td>\n",
       "      <td>400000.000</td>\n",
       "      <td>3</td>\n",
       "      <td>2.500</td>\n",
       "      <td>1600</td>\n",
       "      <td>2388</td>\n",
       "      <td>2.000</td>\n",
       "      <td>nan</td>\n",
       "      <td>0.000</td>\n",
       "      <td>3</td>\n",
       "      <td>8</td>\n",
       "      <td>1600</td>\n",
       "      <td>0.000</td>\n",
       "      <td>2004</td>\n",
       "      <td>0.000</td>\n",
       "      <td>98027</td>\n",
       "      <td>47.535</td>\n",
       "      <td>-122.069</td>\n",
       "      <td>1410</td>\n",
       "      <td>1287</td>\n",
       "    </tr>\n",
       "    <tr>\n",
       "      <td>21596</td>\n",
       "      <td>1523300157</td>\n",
       "      <td>325000.000</td>\n",
       "      <td>2</td>\n",
       "      <td>0.750</td>\n",
       "      <td>1020</td>\n",
       "      <td>1076</td>\n",
       "      <td>2.000</td>\n",
       "      <td>0.000</td>\n",
       "      <td>0.000</td>\n",
       "      <td>3</td>\n",
       "      <td>7</td>\n",
       "      <td>1020</td>\n",
       "      <td>0.000</td>\n",
       "      <td>2008</td>\n",
       "      <td>0.000</td>\n",
       "      <td>98144</td>\n",
       "      <td>47.594</td>\n",
       "      <td>-122.299</td>\n",
       "      <td>1020</td>\n",
       "      <td>1357</td>\n",
       "    </tr>\n",
       "  </tbody>\n",
       "</table>\n",
       "<p>21597 rows × 20 columns</p>\n",
       "</div>"
      ],
      "text/plain": [
       "               id      price  bedrooms  ...     long  sqft_living15  sqft_lot15\n",
       "0      7129300520 221900.000         3  ... -122.257           1340        5650\n",
       "1      6414100192 538000.000         3  ... -122.319           1690        7639\n",
       "2      5631500400 180000.000         2  ... -122.233           2720        8062\n",
       "3      2487200875 604000.000         4  ... -122.393           1360        5000\n",
       "4      1954400510 510000.000         3  ... -122.045           1800        7503\n",
       "...           ...        ...       ...  ...      ...            ...         ...\n",
       "21592   263000018 360000.000         3  ... -122.346           1530        1509\n",
       "21593  6600060120 400000.000         4  ... -122.362           1830        7200\n",
       "21594  1523300141 402101.000         2  ... -122.299           1020        2007\n",
       "21595   291310100 400000.000         3  ... -122.069           1410        1287\n",
       "21596  1523300157 325000.000         2  ... -122.299           1020        1357\n",
       "\n",
       "[21597 rows x 20 columns]"
      ]
     },
     "execution_count": 5,
     "metadata": {},
     "output_type": "execute_result"
    }
   ],
   "source": [
    "df_ohe"
   ]
  },
  {
   "cell_type": "code",
   "execution_count": null,
   "metadata": {
    "ExecuteTime": {
     "end_time": "2020-08-27T21:47:41.581421Z",
     "start_time": "2020-08-27T21:47:41.568614Z"
    }
   },
   "outputs": [],
   "source": []
  },
  {
   "cell_type": "code",
   "execution_count": 6,
   "metadata": {
    "ExecuteTime": {
     "end_time": "2020-08-28T18:19:32.129309Z",
     "start_time": "2020-08-28T18:19:32.114310Z"
    }
   },
   "outputs": [
    {
     "data": {
      "text/plain": [
       "176"
      ]
     },
     "execution_count": 6,
     "metadata": {},
     "output_type": "execute_result"
    }
   ],
   "source": [
    "id_counts = df['id'].value_counts()\n",
    "len(id_counts[id_counts>1])"
   ]
  },
  {
   "cell_type": "code",
   "execution_count": 7,
   "metadata": {
    "ExecuteTime": {
     "end_time": "2020-08-28T18:19:32.145309Z",
     "start_time": "2020-08-28T18:19:32.130310Z"
    }
   },
   "outputs": [],
   "source": [
    "df_ohe.log(['price', 'bathrooms', 'sqft_living', 'sqft_lot'], inplace=True)"
   ]
  },
  {
   "cell_type": "code",
   "execution_count": 8,
   "metadata": {
    "ExecuteTime": {
     "end_time": "2020-08-28T18:19:32.161309Z",
     "start_time": "2020-08-28T18:19:32.146309Z"
    }
   },
   "outputs": [],
   "source": [
    "#df_ohe.model_and_plot('price')"
   ]
  },
  {
   "cell_type": "code",
   "execution_count": 9,
   "metadata": {
    "ExecuteTime": {
     "end_time": "2020-08-28T18:19:32.176308Z",
     "start_time": "2020-08-28T18:19:32.162310Z"
    }
   },
   "outputs": [
    {
     "data": {
      "text/plain": [
       "(21597, 20)"
      ]
     },
     "execution_count": 9,
     "metadata": {},
     "output_type": "execute_result"
    }
   ],
   "source": [
    "df_ohe.shape"
   ]
  },
  {
   "cell_type": "code",
   "execution_count": 10,
   "metadata": {
    "ExecuteTime": {
     "end_time": "2020-08-28T18:19:32.191308Z",
     "start_time": "2020-08-28T18:19:32.177310Z"
    }
   },
   "outputs": [],
   "source": [
    "df_ohe.drop_nulls_perc(.001, inplace=True)"
   ]
  },
  {
   "cell_type": "code",
   "execution_count": 11,
   "metadata": {
    "ExecuteTime": {
     "end_time": "2020-08-28T18:19:32.253308Z",
     "start_time": "2020-08-28T18:19:32.192312Z"
    }
   },
   "outputs": [],
   "source": [
    "df_ohe.lrmodel(target='price', inplace=True)"
   ]
  },
  {
   "cell_type": "code",
   "execution_count": 12,
   "metadata": {
    "ExecuteTime": {
     "end_time": "2020-08-28T18:19:32.521320Z",
     "start_time": "2020-08-28T18:19:32.254311Z"
    }
   },
   "outputs": [
    {
     "data": {
      "text/html": [
       "<table class=\"simpletable\">\n",
       "<caption>OLS Regression Results</caption>\n",
       "<tr>\n",
       "  <th>Dep. Variable:</th>          <td>price</td>      <th>  R-squared:         </th> <td>   0.758</td>\n",
       "</tr>\n",
       "<tr>\n",
       "  <th>Model:</th>                   <td>OLS</td>       <th>  Adj. R-squared:    </th> <td>   0.757</td>\n",
       "</tr>\n",
       "<tr>\n",
       "  <th>Method:</th>             <td>Least Squares</td>  <th>  F-statistic:       </th> <td>   4216.</td>\n",
       "</tr>\n",
       "<tr>\n",
       "  <th>Date:</th>             <td>Fri, 28 Aug 2020</td> <th>  Prob (F-statistic):</th>  <td>  0.00</td> \n",
       "</tr>\n",
       "<tr>\n",
       "  <th>Time:</th>                 <td>13:19:32</td>     <th>  Log-Likelihood:    </th> <td> -1487.1</td>\n",
       "</tr>\n",
       "<tr>\n",
       "  <th>No. Observations:</th>      <td> 21597</td>      <th>  AIC:               </th> <td>   3008.</td>\n",
       "</tr>\n",
       "<tr>\n",
       "  <th>Df Residuals:</th>          <td> 21580</td>      <th>  BIC:               </th> <td>   3144.</td>\n",
       "</tr>\n",
       "<tr>\n",
       "  <th>Df Model:</th>              <td>    16</td>      <th>                     </th>     <td> </td>   \n",
       "</tr>\n",
       "<tr>\n",
       "  <th>Covariance Type:</th>      <td>nonrobust</td>    <th>                     </th>     <td> </td>   \n",
       "</tr>\n",
       "</table>\n",
       "<table class=\"simpletable\">\n",
       "<tr>\n",
       "        <td></td>           <th>coef</th>     <th>std err</th>      <th>t</th>      <th>P>|t|</th>  <th>[0.025</th>    <th>0.975]</th>  \n",
       "</tr>\n",
       "<tr>\n",
       "  <th>Intercept</th>     <td>  -10.6427</td> <td>    3.826</td> <td>   -2.781</td> <td> 0.005</td> <td>  -18.143</td> <td>   -3.143</td>\n",
       "</tr>\n",
       "<tr>\n",
       "  <th>id</th>            <td>-1.986e-13</td> <td> 6.26e-13</td> <td>   -0.317</td> <td> 0.751</td> <td>-1.43e-12</td> <td> 1.03e-12</td>\n",
       "</tr>\n",
       "<tr>\n",
       "  <th>bedrooms</th>      <td>   -0.0298</td> <td>    0.003</td> <td>  -11.814</td> <td> 0.000</td> <td>   -0.035</td> <td>   -0.025</td>\n",
       "</tr>\n",
       "<tr>\n",
       "  <th>bathrooms</th>     <td>    0.1216</td> <td>    0.008</td> <td>   14.732</td> <td> 0.000</td> <td>    0.105</td> <td>    0.138</td>\n",
       "</tr>\n",
       "<tr>\n",
       "  <th>sqft_living</th>   <td>    0.1786</td> <td>    0.016</td> <td>   11.511</td> <td> 0.000</td> <td>    0.148</td> <td>    0.209</td>\n",
       "</tr>\n",
       "<tr>\n",
       "  <th>sqft_lot</th>      <td>   -0.0361</td> <td>    0.003</td> <td>  -10.866</td> <td> 0.000</td> <td>   -0.043</td> <td>   -0.030</td>\n",
       "</tr>\n",
       "<tr>\n",
       "  <th>floors</th>        <td>    0.0527</td> <td>    0.005</td> <td>   10.297</td> <td> 0.000</td> <td>    0.043</td> <td>    0.063</td>\n",
       "</tr>\n",
       "<tr>\n",
       "  <th>condition</th>     <td>    0.0567</td> <td>    0.003</td> <td>   18.933</td> <td> 0.000</td> <td>    0.051</td> <td>    0.063</td>\n",
       "</tr>\n",
       "<tr>\n",
       "  <th>grade</th>         <td>    0.1652</td> <td>    0.003</td> <td>   59.527</td> <td> 0.000</td> <td>    0.160</td> <td>    0.171</td>\n",
       "</tr>\n",
       "<tr>\n",
       "  <th>sqft_above</th>    <td>    0.0001</td> <td> 6.98e-06</td> <td>   14.807</td> <td> 0.000</td> <td> 8.96e-05</td> <td>    0.000</td>\n",
       "</tr>\n",
       "<tr>\n",
       "  <th>sqft_basement</th> <td>    0.0001</td> <td> 7.74e-06</td> <td>   15.230</td> <td> 0.000</td> <td>    0.000</td> <td>    0.000</td>\n",
       "</tr>\n",
       "<tr>\n",
       "  <th>yr_built</th>      <td>   -0.0042</td> <td> 8.97e-05</td> <td>  -46.621</td> <td> 0.000</td> <td>   -0.004</td> <td>   -0.004</td>\n",
       "</tr>\n",
       "<tr>\n",
       "  <th>zipcode</th>       <td>   -0.0005</td> <td> 4.24e-05</td> <td>  -12.900</td> <td> 0.000</td> <td>   -0.001</td> <td>   -0.000</td>\n",
       "</tr>\n",
       "<tr>\n",
       "  <th>lat</th>           <td>    1.3299</td> <td>    0.014</td> <td>   96.141</td> <td> 0.000</td> <td>    1.303</td> <td>    1.357</td>\n",
       "</tr>\n",
       "<tr>\n",
       "  <th>long</th>          <td>   -0.1582</td> <td>    0.017</td> <td>   -9.175</td> <td> 0.000</td> <td>   -0.192</td> <td>   -0.124</td>\n",
       "</tr>\n",
       "<tr>\n",
       "  <th>sqft_living15</th> <td>    0.0001</td> <td> 4.41e-06</td> <td>   25.378</td> <td> 0.000</td> <td>    0.000</td> <td>    0.000</td>\n",
       "</tr>\n",
       "<tr>\n",
       "  <th>sqft_lot15</th>    <td> 9.149e-07</td> <td> 8.66e-08</td> <td>   10.559</td> <td> 0.000</td> <td> 7.45e-07</td> <td> 1.08e-06</td>\n",
       "</tr>\n",
       "</table>\n",
       "<table class=\"simpletable\">\n",
       "<tr>\n",
       "  <th>Omnibus:</th>       <td>485.233</td> <th>  Durbin-Watson:     </th> <td>   1.987</td> \n",
       "</tr>\n",
       "<tr>\n",
       "  <th>Prob(Omnibus):</th> <td> 0.000</td>  <th>  Jarque-Bera (JB):  </th> <td> 889.437</td> \n",
       "</tr>\n",
       "<tr>\n",
       "  <th>Skew:</th>          <td> 0.173</td>  <th>  Prob(JB):          </th> <td>7.26e-194</td>\n",
       "</tr>\n",
       "<tr>\n",
       "  <th>Kurtosis:</th>      <td> 3.932</td>  <th>  Cond. No.          </th> <td>1.17e+13</td> \n",
       "</tr>\n",
       "</table><br/><br/>Warnings:<br/>[1] Standard Errors assume that the covariance matrix of the errors is correctly specified.<br/>[2] The condition number is large, 1.17e+13. This might indicate that there are<br/>strong multicollinearity or other numerical problems."
      ],
      "text/plain": [
       "<class 'statsmodels.iolib.summary.Summary'>\n",
       "\"\"\"\n",
       "                            OLS Regression Results                            \n",
       "==============================================================================\n",
       "Dep. Variable:                  price   R-squared:                       0.758\n",
       "Model:                            OLS   Adj. R-squared:                  0.757\n",
       "Method:                 Least Squares   F-statistic:                     4216.\n",
       "Date:                Fri, 28 Aug 2020   Prob (F-statistic):               0.00\n",
       "Time:                        13:19:32   Log-Likelihood:                -1487.1\n",
       "No. Observations:               21597   AIC:                             3008.\n",
       "Df Residuals:                   21580   BIC:                             3144.\n",
       "Df Model:                          16                                         \n",
       "Covariance Type:            nonrobust                                         \n",
       "=================================================================================\n",
       "                    coef    std err          t      P>|t|      [0.025      0.975]\n",
       "---------------------------------------------------------------------------------\n",
       "Intercept       -10.6427      3.826     -2.781      0.005     -18.143      -3.143\n",
       "id            -1.986e-13   6.26e-13     -0.317      0.751   -1.43e-12    1.03e-12\n",
       "bedrooms         -0.0298      0.003    -11.814      0.000      -0.035      -0.025\n",
       "bathrooms         0.1216      0.008     14.732      0.000       0.105       0.138\n",
       "sqft_living       0.1786      0.016     11.511      0.000       0.148       0.209\n",
       "sqft_lot         -0.0361      0.003    -10.866      0.000      -0.043      -0.030\n",
       "floors            0.0527      0.005     10.297      0.000       0.043       0.063\n",
       "condition         0.0567      0.003     18.933      0.000       0.051       0.063\n",
       "grade             0.1652      0.003     59.527      0.000       0.160       0.171\n",
       "sqft_above        0.0001   6.98e-06     14.807      0.000    8.96e-05       0.000\n",
       "sqft_basement     0.0001   7.74e-06     15.230      0.000       0.000       0.000\n",
       "yr_built         -0.0042   8.97e-05    -46.621      0.000      -0.004      -0.004\n",
       "zipcode          -0.0005   4.24e-05    -12.900      0.000      -0.001      -0.000\n",
       "lat               1.3299      0.014     96.141      0.000       1.303       1.357\n",
       "long             -0.1582      0.017     -9.175      0.000      -0.192      -0.124\n",
       "sqft_living15     0.0001   4.41e-06     25.378      0.000       0.000       0.000\n",
       "sqft_lot15     9.149e-07   8.66e-08     10.559      0.000    7.45e-07    1.08e-06\n",
       "==============================================================================\n",
       "Omnibus:                      485.233   Durbin-Watson:                   1.987\n",
       "Prob(Omnibus):                  0.000   Jarque-Bera (JB):              889.437\n",
       "Skew:                           0.173   Prob(JB):                    7.26e-194\n",
       "Kurtosis:                       3.932   Cond. No.                     1.17e+13\n",
       "==============================================================================\n",
       "\n",
       "Warnings:\n",
       "[1] Standard Errors assume that the covariance matrix of the errors is correctly specified.\n",
       "[2] The condition number is large, 1.17e+13. This might indicate that there are\n",
       "strong multicollinearity or other numerical problems.\n",
       "\"\"\""
      ]
     },
     "metadata": {},
     "output_type": "display_data"
    },
    {
     "data": {
      "image/png": "[encoded data removed]",
      "text/plain": [
       "<Figure size 720x720 with 2 Axes>"
      ]
     },
     "metadata": {
      "needs_background": "light"
     },
     "output_type": "display_data"
    }
   ],
   "source": [
    "df_ohe.model_and_plot('price')"
   ]
  },
  {
   "cell_type": "code",
   "execution_count": 13,
   "metadata": {
    "ExecuteTime": {
     "end_time": "2020-08-28T18:19:33.285324Z",
     "start_time": "2020-08-28T18:19:32.522320Z"
    }
   },
   "outputs": [
    {
     "data": {
      "text/plain": [
       "<AxesSubplot:xlabel='price', ylabel='floors'>"
      ]
     },
     "execution_count": 13,
     "metadata": {},
     "output_type": "execute_result"
    },
    {
     "data": {
      "image/png": "[encoded data removed]",
      "text/plain": [
       "<Figure size 432x288 with 1 Axes>"
      ]
     },
     "metadata": {
      "needs_background": "light"
     },
     "output_type": "display_data"
    }
   ],
   "source": [
    "df.regplot('price', 'floors')"
   ]
  },
  {
   "cell_type": "code",
   "execution_count": 14,
   "metadata": {
    "ExecuteTime": {
     "end_time": "2020-08-28T18:19:33.365320Z",
     "start_time": "2020-08-28T18:19:33.286320Z"
    }
   },
   "outputs": [],
   "source": [
    "df_ohe.lrmodel(target='price', inplace=True)"
   ]
  },
  {
   "cell_type": "code",
   "execution_count": 15,
   "metadata": {
    "ExecuteTime": {
     "end_time": "2020-08-28T18:19:33.629321Z",
     "start_time": "2020-08-28T18:19:33.366313Z"
    }
   },
   "outputs": [
    {
     "data": {
      "text/html": [
       "<table class=\"simpletable\">\n",
       "<caption>OLS Regression Results</caption>\n",
       "<tr>\n",
       "  <th>Dep. Variable:</th>          <td>price</td>      <th>  R-squared:         </th> <td>   0.758</td>\n",
       "</tr>\n",
       "<tr>\n",
       "  <th>Model:</th>                   <td>OLS</td>       <th>  Adj. R-squared:    </th> <td>   0.757</td>\n",
       "</tr>\n",
       "<tr>\n",
       "  <th>Method:</th>             <td>Least Squares</td>  <th>  F-statistic:       </th> <td>   4497.</td>\n",
       "</tr>\n",
       "<tr>\n",
       "  <th>Date:</th>             <td>Fri, 28 Aug 2020</td> <th>  Prob (F-statistic):</th>  <td>  0.00</td> \n",
       "</tr>\n",
       "<tr>\n",
       "  <th>Time:</th>                 <td>13:19:33</td>     <th>  Log-Likelihood:    </th> <td> -1487.2</td>\n",
       "</tr>\n",
       "<tr>\n",
       "  <th>No. Observations:</th>      <td> 21597</td>      <th>  AIC:               </th> <td>   3006.</td>\n",
       "</tr>\n",
       "<tr>\n",
       "  <th>Df Residuals:</th>          <td> 21581</td>      <th>  BIC:               </th> <td>   3134.</td>\n",
       "</tr>\n",
       "<tr>\n",
       "  <th>Df Model:</th>              <td>    15</td>      <th>                     </th>     <td> </td>   \n",
       "</tr>\n",
       "<tr>\n",
       "  <th>Covariance Type:</th>      <td>nonrobust</td>    <th>                     </th>     <td> </td>   \n",
       "</tr>\n",
       "</table>\n",
       "<table class=\"simpletable\">\n",
       "<tr>\n",
       "        <td></td>           <th>coef</th>     <th>std err</th>      <th>t</th>      <th>P>|t|</th>  <th>[0.025</th>    <th>0.975]</th>  \n",
       "</tr>\n",
       "<tr>\n",
       "  <th>Intercept</th>     <td>  -10.7005</td> <td>    3.822</td> <td>   -2.800</td> <td> 0.005</td> <td>  -18.192</td> <td>   -3.209</td>\n",
       "</tr>\n",
       "<tr>\n",
       "  <th>bedrooms</th>      <td>   -0.0298</td> <td>    0.003</td> <td>  -11.813</td> <td> 0.000</td> <td>   -0.035</td> <td>   -0.025</td>\n",
       "</tr>\n",
       "<tr>\n",
       "  <th>bathrooms</th>     <td>    0.1216</td> <td>    0.008</td> <td>   14.735</td> <td> 0.000</td> <td>    0.105</td> <td>    0.138</td>\n",
       "</tr>\n",
       "<tr>\n",
       "  <th>sqft_living</th>   <td>    0.1785</td> <td>    0.016</td> <td>   11.506</td> <td> 0.000</td> <td>    0.148</td> <td>    0.209</td>\n",
       "</tr>\n",
       "<tr>\n",
       "  <th>sqft_lot</th>      <td>   -0.0359</td> <td>    0.003</td> <td>  -10.910</td> <td> 0.000</td> <td>   -0.042</td> <td>   -0.029</td>\n",
       "</tr>\n",
       "<tr>\n",
       "  <th>floors</th>        <td>    0.0528</td> <td>    0.005</td> <td>   10.324</td> <td> 0.000</td> <td>    0.043</td> <td>    0.063</td>\n",
       "</tr>\n",
       "<tr>\n",
       "  <th>condition</th>     <td>    0.0568</td> <td>    0.003</td> <td>   18.941</td> <td> 0.000</td> <td>    0.051</td> <td>    0.063</td>\n",
       "</tr>\n",
       "<tr>\n",
       "  <th>grade</th>         <td>    0.1652</td> <td>    0.003</td> <td>   59.531</td> <td> 0.000</td> <td>    0.160</td> <td>    0.171</td>\n",
       "</tr>\n",
       "<tr>\n",
       "  <th>sqft_above</th>    <td>    0.0001</td> <td> 6.98e-06</td> <td>   14.812</td> <td> 0.000</td> <td> 8.97e-05</td> <td>    0.000</td>\n",
       "</tr>\n",
       "<tr>\n",
       "  <th>sqft_basement</th> <td>    0.0001</td> <td> 7.74e-06</td> <td>   15.239</td> <td> 0.000</td> <td>    0.000</td> <td>    0.000</td>\n",
       "</tr>\n",
       "<tr>\n",
       "  <th>yr_built</th>      <td>   -0.0042</td> <td> 8.97e-05</td> <td>  -46.626</td> <td> 0.000</td> <td>   -0.004</td> <td>   -0.004</td>\n",
       "</tr>\n",
       "<tr>\n",
       "  <th>zipcode</th>       <td>   -0.0005</td> <td> 4.24e-05</td> <td>  -12.899</td> <td> 0.000</td> <td>   -0.001</td> <td>   -0.000</td>\n",
       "</tr>\n",
       "<tr>\n",
       "  <th>lat</th>           <td>    1.3300</td> <td>    0.014</td> <td>   96.188</td> <td> 0.000</td> <td>    1.303</td> <td>    1.357</td>\n",
       "</tr>\n",
       "<tr>\n",
       "  <th>long</th>          <td>   -0.1586</td> <td>    0.017</td> <td>   -9.221</td> <td> 0.000</td> <td>   -0.192</td> <td>   -0.125</td>\n",
       "</tr>\n",
       "<tr>\n",
       "  <th>sqft_living15</th> <td>    0.0001</td> <td> 4.41e-06</td> <td>   25.377</td> <td> 0.000</td> <td>    0.000</td> <td>    0.000</td>\n",
       "</tr>\n",
       "<tr>\n",
       "  <th>sqft_lot15</th>    <td>  9.16e-07</td> <td> 8.66e-08</td> <td>   10.581</td> <td> 0.000</td> <td> 7.46e-07</td> <td> 1.09e-06</td>\n",
       "</tr>\n",
       "</table>\n",
       "<table class=\"simpletable\">\n",
       "<tr>\n",
       "  <th>Omnibus:</th>       <td>485.353</td> <th>  Durbin-Watson:     </th> <td>   1.987</td> \n",
       "</tr>\n",
       "<tr>\n",
       "  <th>Prob(Omnibus):</th> <td> 0.000</td>  <th>  Jarque-Bera (JB):  </th> <td> 889.602</td> \n",
       "</tr>\n",
       "<tr>\n",
       "  <th>Skew:</th>          <td> 0.173</td>  <th>  Prob(JB):          </th> <td>6.69e-194</td>\n",
       "</tr>\n",
       "<tr>\n",
       "  <th>Kurtosis:</th>      <td> 3.932</td>  <th>  Cond. No.          </th> <td>2.14e+08</td> \n",
       "</tr>\n",
       "</table><br/><br/>Warnings:<br/>[1] Standard Errors assume that the covariance matrix of the errors is correctly specified.<br/>[2] The condition number is large, 2.14e+08. This might indicate that there are<br/>strong multicollinearity or other numerical problems."
      ],
      "text/plain": [
       "<class 'statsmodels.iolib.summary.Summary'>\n",
       "\"\"\"\n",
       "                            OLS Regression Results                            \n",
       "==============================================================================\n",
       "Dep. Variable:                  price   R-squared:                       0.758\n",
       "Model:                            OLS   Adj. R-squared:                  0.757\n",
       "Method:                 Least Squares   F-statistic:                     4497.\n",
       "Date:                Fri, 28 Aug 2020   Prob (F-statistic):               0.00\n",
       "Time:                        13:19:33   Log-Likelihood:                -1487.2\n",
       "No. Observations:               21597   AIC:                             3006.\n",
       "Df Residuals:                   21581   BIC:                             3134.\n",
       "Df Model:                          15                                         \n",
       "Covariance Type:            nonrobust                                         \n",
       "=================================================================================\n",
       "                    coef    std err          t      P>|t|      [0.025      0.975]\n",
       "---------------------------------------------------------------------------------\n",
       "Intercept       -10.7005      3.822     -2.800      0.005     -18.192      -3.209\n",
       "bedrooms         -0.0298      0.003    -11.813      0.000      -0.035      -0.025\n",
       "bathrooms         0.1216      0.008     14.735      0.000       0.105       0.138\n",
       "sqft_living       0.1785      0.016     11.506      0.000       0.148       0.209\n",
       "sqft_lot         -0.0359      0.003    -10.910      0.000      -0.042      -0.029\n",
       "floors            0.0528      0.005     10.324      0.000       0.043       0.063\n",
       "condition         0.0568      0.003     18.941      0.000       0.051       0.063\n",
       "grade             0.1652      0.003     59.531      0.000       0.160       0.171\n",
       "sqft_above        0.0001   6.98e-06     14.812      0.000    8.97e-05       0.000\n",
       "sqft_basement     0.0001   7.74e-06     15.239      0.000       0.000       0.000\n",
       "yr_built         -0.0042   8.97e-05    -46.626      0.000      -0.004      -0.004\n",
       "zipcode          -0.0005   4.24e-05    -12.899      0.000      -0.001      -0.000\n",
       "lat               1.3300      0.014     96.188      0.000       1.303       1.357\n",
       "long             -0.1586      0.017     -9.221      0.000      -0.192      -0.125\n",
       "sqft_living15     0.0001   4.41e-06     25.377      0.000       0.000       0.000\n",
       "sqft_lot15      9.16e-07   8.66e-08     10.581      0.000    7.46e-07    1.09e-06\n",
       "==============================================================================\n",
       "Omnibus:                      485.353   Durbin-Watson:                   1.987\n",
       "Prob(Omnibus):                  0.000   Jarque-Bera (JB):              889.602\n",
       "Skew:                           0.173   Prob(JB):                    6.69e-194\n",
       "Kurtosis:                       3.932   Cond. No.                     2.14e+08\n",
       "==============================================================================\n",
       "\n",
       "Warnings:\n",
       "[1] Standard Errors assume that the covariance matrix of the errors is correctly specified.\n",
       "[2] The condition number is large, 2.14e+08. This might indicate that there are\n",
       "strong multicollinearity or other numerical problems.\n",
       "\"\"\""
      ]
     },
     "metadata": {},
     "output_type": "display_data"
    },
    {
     "data": {
      "image/png": "[encoded data removed]",
      "text/plain": [
       "<Figure size 720x720 with 2 Axes>"
      ]
     },
     "metadata": {
      "needs_background": "light"
     },
     "output_type": "display_data"
    }
   ],
   "source": [
    "df_ohe.drop(['id'], inplace=True, axis=1)\n",
    "df_ohe.model_and_plot('price')"
   ]
  },
  {
   "cell_type": "code",
   "execution_count": 16,
   "metadata": {
    "ExecuteTime": {
     "end_time": "2020-08-28T18:19:33.660309Z",
     "start_time": "2020-08-28T18:19:33.630321Z"
    }
   },
   "outputs": [
    {
     "data": {
      "text/html": [
       "<div>\n",
       "<style scoped>\n",
       "    .dataframe tbody tr th:only-of-type {\n",
       "        vertical-align: middle;\n",
       "    }\n",
       "\n",
       "    .dataframe tbody tr th {\n",
       "        vertical-align: top;\n",
       "    }\n",
       "\n",
       "    .dataframe thead th {\n",
       "        text-align: right;\n",
       "    }\n",
       "</style>\n",
       "<table border=\"1\" class=\"dataframe\">\n",
       "  <thead>\n",
       "    <tr style=\"text-align: right;\">\n",
       "      <th></th>\n",
       "      <th>price</th>\n",
       "      <th>bedrooms</th>\n",
       "      <th>bathrooms</th>\n",
       "      <th>sqft_living</th>\n",
       "      <th>sqft_lot</th>\n",
       "      <th>floors</th>\n",
       "      <th>condition</th>\n",
       "      <th>grade</th>\n",
       "      <th>sqft_above</th>\n",
       "      <th>sqft_basement</th>\n",
       "      <th>yr_built</th>\n",
       "      <th>zipcode</th>\n",
       "      <th>lat</th>\n",
       "      <th>long</th>\n",
       "      <th>sqft_living15</th>\n",
       "      <th>sqft_lot15</th>\n",
       "    </tr>\n",
       "  </thead>\n",
       "  <tbody>\n",
       "    <tr>\n",
       "      <td>price</td>\n",
       "      <td>1.000</td>\n",
       "      <td>0.343</td>\n",
       "      <td>0.520</td>\n",
       "      <td>0.675</td>\n",
       "      <td>0.138</td>\n",
       "      <td>0.311</td>\n",
       "      <td>0.039</td>\n",
       "      <td>0.704</td>\n",
       "      <td>0.602</td>\n",
       "      <td>0.313</td>\n",
       "      <td>0.081</td>\n",
       "      <td>-0.039</td>\n",
       "      <td>0.449</td>\n",
       "      <td>0.051</td>\n",
       "      <td>0.619</td>\n",
       "      <td>0.092</td>\n",
       "    </tr>\n",
       "    <tr>\n",
       "      <td>bedrooms</td>\n",
       "      <td>0.343</td>\n",
       "      <td>1.000</td>\n",
       "      <td>0.508</td>\n",
       "      <td>0.622</td>\n",
       "      <td>0.185</td>\n",
       "      <td>0.178</td>\n",
       "      <td>0.026</td>\n",
       "      <td>0.357</td>\n",
       "      <td>0.479</td>\n",
       "      <td>0.297</td>\n",
       "      <td>0.156</td>\n",
       "      <td>-0.154</td>\n",
       "      <td>-0.010</td>\n",
       "      <td>0.132</td>\n",
       "      <td>0.393</td>\n",
       "      <td>0.031</td>\n",
       "    </tr>\n",
       "    <tr>\n",
       "      <td>bathrooms</td>\n",
       "      <td>0.520</td>\n",
       "      <td>0.508</td>\n",
       "      <td>1.000</td>\n",
       "      <td>0.761</td>\n",
       "      <td>0.085</td>\n",
       "      <td>0.501</td>\n",
       "      <td>-0.113</td>\n",
       "      <td>0.644</td>\n",
       "      <td>0.642</td>\n",
       "      <td>0.264</td>\n",
       "      <td>0.534</td>\n",
       "      <td>-0.228</td>\n",
       "      <td>0.011</td>\n",
       "      <td>0.241</td>\n",
       "      <td>0.551</td>\n",
       "      <td>0.077</td>\n",
       "    </tr>\n",
       "    <tr>\n",
       "      <td>sqft_living</td>\n",
       "      <td>0.675</td>\n",
       "      <td>0.622</td>\n",
       "      <td>0.761</td>\n",
       "      <td>1.000</td>\n",
       "      <td>0.326</td>\n",
       "      <td>0.368</td>\n",
       "      <td>-0.050</td>\n",
       "      <td>0.743</td>\n",
       "      <td>0.832</td>\n",
       "      <td>0.417</td>\n",
       "      <td>0.350</td>\n",
       "      <td>-0.222</td>\n",
       "      <td>0.039</td>\n",
       "      <td>0.257</td>\n",
       "      <td>0.737</td>\n",
       "      <td>0.163</td>\n",
       "    </tr>\n",
       "    <tr>\n",
       "      <td>sqft_lot</td>\n",
       "      <td>0.138</td>\n",
       "      <td>0.185</td>\n",
       "      <td>0.085</td>\n",
       "      <td>0.326</td>\n",
       "      <td>1.000</td>\n",
       "      <td>-0.237</td>\n",
       "      <td>0.074</td>\n",
       "      <td>0.184</td>\n",
       "      <td>0.332</td>\n",
       "      <td>0.093</td>\n",
       "      <td>-0.007</td>\n",
       "      <td>-0.282</td>\n",
       "      <td>-0.149</td>\n",
       "      <td>0.376</td>\n",
       "      <td>0.364</td>\n",
       "      <td>0.624</td>\n",
       "    </tr>\n",
       "    <tr>\n",
       "      <td>floors</td>\n",
       "      <td>0.311</td>\n",
       "      <td>0.178</td>\n",
       "      <td>0.501</td>\n",
       "      <td>0.368</td>\n",
       "      <td>-0.237</td>\n",
       "      <td>1.000</td>\n",
       "      <td>-0.264</td>\n",
       "      <td>0.459</td>\n",
       "      <td>0.524</td>\n",
       "      <td>-0.242</td>\n",
       "      <td>0.489</td>\n",
       "      <td>-0.060</td>\n",
       "      <td>0.049</td>\n",
       "      <td>0.126</td>\n",
       "      <td>0.280</td>\n",
       "      <td>-0.011</td>\n",
       "    </tr>\n",
       "    <tr>\n",
       "      <td>condition</td>\n",
       "      <td>0.039</td>\n",
       "      <td>0.026</td>\n",
       "      <td>-0.113</td>\n",
       "      <td>-0.050</td>\n",
       "      <td>0.074</td>\n",
       "      <td>-0.264</td>\n",
       "      <td>1.000</td>\n",
       "      <td>-0.147</td>\n",
       "      <td>-0.159</td>\n",
       "      <td>0.168</td>\n",
       "      <td>-0.362</td>\n",
       "      <td>0.003</td>\n",
       "      <td>-0.015</td>\n",
       "      <td>-0.106</td>\n",
       "      <td>-0.093</td>\n",
       "      <td>-0.003</td>\n",
       "    </tr>\n",
       "    <tr>\n",
       "      <td>grade</td>\n",
       "      <td>0.704</td>\n",
       "      <td>0.357</td>\n",
       "      <td>0.644</td>\n",
       "      <td>0.743</td>\n",
       "      <td>0.184</td>\n",
       "      <td>0.459</td>\n",
       "      <td>-0.147</td>\n",
       "      <td>1.000</td>\n",
       "      <td>0.756</td>\n",
       "      <td>0.166</td>\n",
       "      <td>0.448</td>\n",
       "      <td>-0.186</td>\n",
       "      <td>0.114</td>\n",
       "      <td>0.200</td>\n",
       "      <td>0.714</td>\n",
       "      <td>0.121</td>\n",
       "    </tr>\n",
       "    <tr>\n",
       "      <td>sqft_above</td>\n",
       "      <td>0.602</td>\n",
       "      <td>0.479</td>\n",
       "      <td>0.642</td>\n",
       "      <td>0.832</td>\n",
       "      <td>0.332</td>\n",
       "      <td>0.524</td>\n",
       "      <td>-0.159</td>\n",
       "      <td>0.756</td>\n",
       "      <td>1.000</td>\n",
       "      <td>-0.051</td>\n",
       "      <td>0.424</td>\n",
       "      <td>-0.262</td>\n",
       "      <td>-0.001</td>\n",
       "      <td>0.345</td>\n",
       "      <td>0.732</td>\n",
       "      <td>0.195</td>\n",
       "    </tr>\n",
       "    <tr>\n",
       "      <td>sqft_basement</td>\n",
       "      <td>0.313</td>\n",
       "      <td>0.297</td>\n",
       "      <td>0.264</td>\n",
       "      <td>0.417</td>\n",
       "      <td>0.093</td>\n",
       "      <td>-0.242</td>\n",
       "      <td>0.168</td>\n",
       "      <td>0.166</td>\n",
       "      <td>-0.051</td>\n",
       "      <td>1.000</td>\n",
       "      <td>-0.130</td>\n",
       "      <td>0.073</td>\n",
       "      <td>0.110</td>\n",
       "      <td>-0.142</td>\n",
       "      <td>0.199</td>\n",
       "      <td>0.016</td>\n",
       "    </tr>\n",
       "    <tr>\n",
       "      <td>yr_built</td>\n",
       "      <td>0.081</td>\n",
       "      <td>0.156</td>\n",
       "      <td>0.534</td>\n",
       "      <td>0.350</td>\n",
       "      <td>-0.007</td>\n",
       "      <td>0.489</td>\n",
       "      <td>-0.362</td>\n",
       "      <td>0.448</td>\n",
       "      <td>0.424</td>\n",
       "      <td>-0.130</td>\n",
       "      <td>1.000</td>\n",
       "      <td>-0.347</td>\n",
       "      <td>-0.148</td>\n",
       "      <td>0.410</td>\n",
       "      <td>0.326</td>\n",
       "      <td>0.071</td>\n",
       "    </tr>\n",
       "    <tr>\n",
       "      <td>zipcode</td>\n",
       "      <td>-0.039</td>\n",
       "      <td>-0.154</td>\n",
       "      <td>-0.228</td>\n",
       "      <td>-0.222</td>\n",
       "      <td>-0.282</td>\n",
       "      <td>-0.060</td>\n",
       "      <td>0.003</td>\n",
       "      <td>-0.186</td>\n",
       "      <td>-0.262</td>\n",
       "      <td>0.073</td>\n",
       "      <td>-0.347</td>\n",
       "      <td>1.000</td>\n",
       "      <td>0.267</td>\n",
       "      <td>-0.564</td>\n",
       "      <td>-0.279</td>\n",
       "      <td>-0.147</td>\n",
       "    </tr>\n",
       "    <tr>\n",
       "      <td>lat</td>\n",
       "      <td>0.449</td>\n",
       "      <td>-0.010</td>\n",
       "      <td>0.011</td>\n",
       "      <td>0.039</td>\n",
       "      <td>-0.149</td>\n",
       "      <td>0.049</td>\n",
       "      <td>-0.015</td>\n",
       "      <td>0.114</td>\n",
       "      <td>-0.001</td>\n",
       "      <td>0.110</td>\n",
       "      <td>-0.148</td>\n",
       "      <td>0.267</td>\n",
       "      <td>1.000</td>\n",
       "      <td>-0.135</td>\n",
       "      <td>0.049</td>\n",
       "      <td>-0.086</td>\n",
       "    </tr>\n",
       "    <tr>\n",
       "      <td>long</td>\n",
       "      <td>0.051</td>\n",
       "      <td>0.132</td>\n",
       "      <td>0.241</td>\n",
       "      <td>0.257</td>\n",
       "      <td>0.376</td>\n",
       "      <td>0.126</td>\n",
       "      <td>-0.106</td>\n",
       "      <td>0.200</td>\n",
       "      <td>0.345</td>\n",
       "      <td>-0.142</td>\n",
       "      <td>0.410</td>\n",
       "      <td>-0.564</td>\n",
       "      <td>-0.135</td>\n",
       "      <td>1.000</td>\n",
       "      <td>0.336</td>\n",
       "      <td>0.256</td>\n",
       "    </tr>\n",
       "    <tr>\n",
       "      <td>sqft_living15</td>\n",
       "      <td>0.619</td>\n",
       "      <td>0.393</td>\n",
       "      <td>0.551</td>\n",
       "      <td>0.737</td>\n",
       "      <td>0.364</td>\n",
       "      <td>0.280</td>\n",
       "      <td>-0.093</td>\n",
       "      <td>0.714</td>\n",
       "      <td>0.732</td>\n",
       "      <td>0.199</td>\n",
       "      <td>0.326</td>\n",
       "      <td>-0.279</td>\n",
       "      <td>0.049</td>\n",
       "      <td>0.336</td>\n",
       "      <td>1.000</td>\n",
       "      <td>0.184</td>\n",
       "    </tr>\n",
       "    <tr>\n",
       "      <td>sqft_lot15</td>\n",
       "      <td>0.092</td>\n",
       "      <td>0.031</td>\n",
       "      <td>0.077</td>\n",
       "      <td>0.163</td>\n",
       "      <td>0.624</td>\n",
       "      <td>-0.011</td>\n",
       "      <td>-0.003</td>\n",
       "      <td>0.121</td>\n",
       "      <td>0.195</td>\n",
       "      <td>0.016</td>\n",
       "      <td>0.071</td>\n",
       "      <td>-0.147</td>\n",
       "      <td>-0.086</td>\n",
       "      <td>0.256</td>\n",
       "      <td>0.184</td>\n",
       "      <td>1.000</td>\n",
       "    </tr>\n",
       "  </tbody>\n",
       "</table>\n",
       "</div>"
      ],
      "text/plain": [
       "               price  bedrooms  bathrooms  ...   long  sqft_living15  sqft_lot15\n",
       "price          1.000     0.343      0.520  ...  0.051          0.619       0.092\n",
       "bedrooms       0.343     1.000      0.508  ...  0.132          0.393       0.031\n",
       "bathrooms      0.520     0.508      1.000  ...  0.241          0.551       0.077\n",
       "sqft_living    0.675     0.622      0.761  ...  0.257          0.737       0.163\n",
       "sqft_lot       0.138     0.185      0.085  ...  0.376          0.364       0.624\n",
       "floors         0.311     0.178      0.501  ...  0.126          0.280      -0.011\n",
       "condition      0.039     0.026     -0.113  ... -0.106         -0.093      -0.003\n",
       "grade          0.704     0.357      0.644  ...  0.200          0.714       0.121\n",
       "sqft_above     0.602     0.479      0.642  ...  0.345          0.732       0.195\n",
       "sqft_basement  0.313     0.297      0.264  ... -0.142          0.199       0.016\n",
       "yr_built       0.081     0.156      0.534  ...  0.410          0.326       0.071\n",
       "zipcode       -0.039    -0.154     -0.228  ... -0.564         -0.279      -0.147\n",
       "lat            0.449    -0.010      0.011  ... -0.135          0.049      -0.086\n",
       "long           0.051     0.132      0.241  ...  1.000          0.336       0.256\n",
       "sqft_living15  0.619     0.393      0.551  ...  0.336          1.000       0.184\n",
       "sqft_lot15     0.092     0.031      0.077  ...  0.256          0.184       1.000\n",
       "\n",
       "[16 rows x 16 columns]"
      ]
     },
     "execution_count": 16,
     "metadata": {},
     "output_type": "execute_result"
    }
   ],
   "source": [
    "df_ohe.corr()"
   ]
  },
  {
   "cell_type": "code",
   "execution_count": 17,
   "metadata": {
    "ExecuteTime": {
     "end_time": "2020-08-28T18:19:33.675308Z",
     "start_time": "2020-08-28T18:19:33.661313Z"
    }
   },
   "outputs": [],
   "source": [
    "#%conda list"
   ]
  },
  {
   "cell_type": "code",
   "execution_count": 18,
   "metadata": {
    "ExecuteTime": {
     "end_time": "2020-08-28T18:19:33.691308Z",
     "start_time": "2020-08-28T18:19:33.676309Z"
    }
   },
   "outputs": [],
   "source": [
    "#!pip3 install --user -U matplotlib"
   ]
  },
  {
   "cell_type": "code",
   "execution_count": 19,
   "metadata": {
    "ExecuteTime": {
     "end_time": "2020-08-28T18:19:33.707309Z",
     "start_time": "2020-08-28T18:19:33.692311Z"
    }
   },
   "outputs": [
    {
     "data": {
      "text/plain": [
       "'3.3.1'"
      ]
     },
     "execution_count": 19,
     "metadata": {},
     "output_type": "execute_result"
    }
   ],
   "source": [
    "import matplotlib\n",
    "matplotlib.__version__"
   ]
  },
  {
   "cell_type": "code",
   "execution_count": 20,
   "metadata": {
    "ExecuteTime": {
     "end_time": "2020-08-28T18:19:34.324340Z",
     "start_time": "2020-08-28T18:19:33.708311Z"
    }
   },
   "outputs": [
    {
     "data": {
      "text/plain": [
       "(<Figure size 1800x1800 with 2 Axes>, <AxesSubplot:>)"
      ]
     },
     "execution_count": 20,
     "metadata": {},
     "output_type": "execute_result"
    },
    {
     "data": {
      "image/png": "[encoded data removed]",
      "text/plain": [
       "<Figure size 1800x1800 with 2 Axes>"
      ]
     },
     "metadata": {
      "needs_background": "light"
     },
     "output_type": "display_data"
    }
   ],
   "source": [
    "df_ohe.plot_corr()"
   ]
  },
  {
   "cell_type": "code",
   "execution_count": 21,
   "metadata": {
    "ExecuteTime": {
     "end_time": "2020-08-28T18:19:34.497330Z",
     "start_time": "2020-08-28T18:19:34.325340Z"
    }
   },
   "outputs": [
    {
     "name": "stderr",
     "output_type": "stream",
     "text": [
      "C:\\Users\\12147\\anaconda3\\envs\\learn-env\\lib\\site-packages\\numpy\\core\\fromnumeric.py:2580: FutureWarning: Method .ptp is deprecated and will be removed in a future version. Use numpy.ptp instead.\n",
      "  return ptp(axis=axis, out=out, **kwargs)\n"
     ]
    },
    {
     "data": {
      "text/plain": [
       "['sqft_living', 'sqft_above']"
      ]
     },
     "execution_count": 21,
     "metadata": {},
     "output_type": "execute_result"
    }
   ],
   "source": [
    "df_ohe.get_vif_cols('price')"
   ]
  },
  {
   "cell_type": "code",
   "execution_count": 22,
   "metadata": {
    "ExecuteTime": {
     "end_time": "2020-08-28T18:19:34.669329Z",
     "start_time": "2020-08-28T18:19:34.498330Z"
    }
   },
   "outputs": [
    {
     "data": {
      "text/plain": [
       "const           4691444.686\n",
       "bedrooms              1.757\n",
       "bathrooms             3.368\n",
       "sqft_living          13.900\n",
       "sqft_lot              2.835\n",
       "floors                2.445\n",
       "condition             1.220\n",
       "grade                 3.404\n",
       "sqft_above           10.710\n",
       "sqft_basement         3.723\n",
       "yr_built              2.230\n",
       "zipcode               1.653\n",
       "lat                   1.179\n",
       "long                  1.880\n",
       "sqft_living15         2.934\n",
       "sqft_lot15            1.790\n",
       "dtype: float64"
      ]
     },
     "execution_count": 22,
     "metadata": {},
     "output_type": "execute_result"
    }
   ],
   "source": [
    "df_ohe.get_vif('price')"
   ]
  },
  {
   "cell_type": "code",
   "execution_count": 23,
   "metadata": {
    "ExecuteTime": {
     "end_time": "2020-08-28T18:19:34.839329Z",
     "start_time": "2020-08-28T18:19:34.671330Z"
    }
   },
   "outputs": [],
   "source": [
    "df_ohe.remove_vif_cols('price', inplace=True)"
   ]
  },
  {
   "cell_type": "code",
   "execution_count": 24,
   "metadata": {
    "ExecuteTime": {
     "end_time": "2020-08-28T18:19:35.089340Z",
     "start_time": "2020-08-28T18:19:34.840331Z"
    }
   },
   "outputs": [
    {
     "data": {
      "text/html": [
       "<table class=\"simpletable\">\n",
       "<caption>OLS Regression Results</caption>\n",
       "<tr>\n",
       "  <th>Dep. Variable:</th>          <td>price</td>      <th>  R-squared:         </th> <td>   0.743</td>\n",
       "</tr>\n",
       "<tr>\n",
       "  <th>Model:</th>                   <td>OLS</td>       <th>  Adj. R-squared:    </th> <td>   0.743</td>\n",
       "</tr>\n",
       "<tr>\n",
       "  <th>Method:</th>             <td>Least Squares</td>  <th>  F-statistic:       </th> <td>   4802.</td>\n",
       "</tr>\n",
       "<tr>\n",
       "  <th>Date:</th>             <td>Fri, 28 Aug 2020</td> <th>  Prob (F-statistic):</th>  <td>  0.00</td> \n",
       "</tr>\n",
       "<tr>\n",
       "  <th>Time:</th>                 <td>13:19:34</td>     <th>  Log-Likelihood:    </th> <td> -2117.1</td>\n",
       "</tr>\n",
       "<tr>\n",
       "  <th>No. Observations:</th>      <td> 21597</td>      <th>  AIC:               </th> <td>   4262.</td>\n",
       "</tr>\n",
       "<tr>\n",
       "  <th>Df Residuals:</th>          <td> 21583</td>      <th>  BIC:               </th> <td>   4374.</td>\n",
       "</tr>\n",
       "<tr>\n",
       "  <th>Df Model:</th>              <td>    13</td>      <th>                     </th>     <td> </td>   \n",
       "</tr>\n",
       "<tr>\n",
       "  <th>Covariance Type:</th>      <td>nonrobust</td>    <th>                     </th>     <td> </td>   \n",
       "</tr>\n",
       "</table>\n",
       "<table class=\"simpletable\">\n",
       "<tr>\n",
       "        <td></td>           <th>coef</th>     <th>std err</th>      <th>t</th>      <th>P>|t|</th>  <th>[0.025</th>    <th>0.975]</th>  \n",
       "</tr>\n",
       "<tr>\n",
       "  <th>Intercept</th>     <td>   -9.5308</td> <td>    3.931</td> <td>   -2.425</td> <td> 0.015</td> <td>  -17.235</td> <td>   -1.827</td>\n",
       "</tr>\n",
       "<tr>\n",
       "  <th>bedrooms</th>      <td>    0.0024</td> <td>    0.002</td> <td>    1.005</td> <td> 0.315</td> <td>   -0.002</td> <td>    0.007</td>\n",
       "</tr>\n",
       "<tr>\n",
       "  <th>bathrooms</th>     <td>    0.2089</td> <td>    0.008</td> <td>   26.638</td> <td> 0.000</td> <td>    0.194</td> <td>    0.224</td>\n",
       "</tr>\n",
       "<tr>\n",
       "  <th>sqft_lot</th>      <td>   -0.0003</td> <td>    0.003</td> <td>   -0.100</td> <td> 0.921</td> <td>   -0.007</td> <td>    0.006</td>\n",
       "</tr>\n",
       "<tr>\n",
       "  <th>floors</th>        <td>    0.1064</td> <td>    0.005</td> <td>   21.162</td> <td> 0.000</td> <td>    0.097</td> <td>    0.116</td>\n",
       "</tr>\n",
       "<tr>\n",
       "  <th>condition</th>     <td>    0.0551</td> <td>    0.003</td> <td>   17.904</td> <td> 0.000</td> <td>    0.049</td> <td>    0.061</td>\n",
       "</tr>\n",
       "<tr>\n",
       "  <th>grade</th>         <td>    0.2047</td> <td>    0.003</td> <td>   78.348</td> <td> 0.000</td> <td>    0.200</td> <td>    0.210</td>\n",
       "</tr>\n",
       "<tr>\n",
       "  <th>sqft_basement</th> <td>    0.0001</td> <td> 5.17e-06</td> <td>   21.840</td> <td> 0.000</td> <td>    0.000</td> <td>    0.000</td>\n",
       "</tr>\n",
       "<tr>\n",
       "  <th>yr_built</th>      <td>   -0.0045</td> <td> 9.19e-05</td> <td>  -48.957</td> <td> 0.000</td> <td>   -0.005</td> <td>   -0.004</td>\n",
       "</tr>\n",
       "<tr>\n",
       "  <th>zipcode</th>       <td>   -0.0005</td> <td> 4.36e-05</td> <td>  -11.221</td> <td> 0.000</td> <td>   -0.001</td> <td>   -0.000</td>\n",
       "</tr>\n",
       "<tr>\n",
       "  <th>lat</th>           <td>    1.3088</td> <td>    0.014</td> <td>   92.027</td> <td> 0.000</td> <td>    1.281</td> <td>    1.337</td>\n",
       "</tr>\n",
       "<tr>\n",
       "  <th>long</th>          <td>   -0.1208</td> <td>    0.018</td> <td>   -6.834</td> <td> 0.000</td> <td>   -0.155</td> <td>   -0.086</td>\n",
       "</tr>\n",
       "<tr>\n",
       "  <th>sqft_living15</th> <td>    0.0002</td> <td> 4.24e-06</td> <td>   39.782</td> <td> 0.000</td> <td>    0.000</td> <td>    0.000</td>\n",
       "</tr>\n",
       "<tr>\n",
       "  <th>sqft_lot15</th>    <td> 6.417e-07</td> <td> 8.87e-08</td> <td>    7.233</td> <td> 0.000</td> <td> 4.68e-07</td> <td> 8.16e-07</td>\n",
       "</tr>\n",
       "</table>\n",
       "<table class=\"simpletable\">\n",
       "<tr>\n",
       "  <th>Omnibus:</th>       <td>550.541</td> <th>  Durbin-Watson:     </th> <td>   1.979</td> \n",
       "</tr>\n",
       "<tr>\n",
       "  <th>Prob(Omnibus):</th> <td> 0.000</td>  <th>  Jarque-Bera (JB):  </th> <td> 991.507</td> \n",
       "</tr>\n",
       "<tr>\n",
       "  <th>Skew:</th>          <td> 0.208</td>  <th>  Prob(JB):          </th> <td>4.98e-216</td>\n",
       "</tr>\n",
       "<tr>\n",
       "  <th>Kurtosis:</th>      <td> 3.963</td>  <th>  Cond. No.          </th> <td>2.14e+08</td> \n",
       "</tr>\n",
       "</table><br/><br/>Warnings:<br/>[1] Standard Errors assume that the covariance matrix of the errors is correctly specified.<br/>[2] The condition number is large, 2.14e+08. This might indicate that there are<br/>strong multicollinearity or other numerical problems."
      ],
      "text/plain": [
       "<class 'statsmodels.iolib.summary.Summary'>\n",
       "\"\"\"\n",
       "                            OLS Regression Results                            \n",
       "==============================================================================\n",
       "Dep. Variable:                  price   R-squared:                       0.743\n",
       "Model:                            OLS   Adj. R-squared:                  0.743\n",
       "Method:                 Least Squares   F-statistic:                     4802.\n",
       "Date:                Fri, 28 Aug 2020   Prob (F-statistic):               0.00\n",
       "Time:                        13:19:34   Log-Likelihood:                -2117.1\n",
       "No. Observations:               21597   AIC:                             4262.\n",
       "Df Residuals:                   21583   BIC:                             4374.\n",
       "Df Model:                          13                                         \n",
       "Covariance Type:            nonrobust                                         \n",
       "=================================================================================\n",
       "                    coef    std err          t      P>|t|      [0.025      0.975]\n",
       "---------------------------------------------------------------------------------\n",
       "Intercept        -9.5308      3.931     -2.425      0.015     -17.235      -1.827\n",
       "bedrooms          0.0024      0.002      1.005      0.315      -0.002       0.007\n",
       "bathrooms         0.2089      0.008     26.638      0.000       0.194       0.224\n",
       "sqft_lot         -0.0003      0.003     -0.100      0.921      -0.007       0.006\n",
       "floors            0.1064      0.005     21.162      0.000       0.097       0.116\n",
       "condition         0.0551      0.003     17.904      0.000       0.049       0.061\n",
       "grade             0.2047      0.003     78.348      0.000       0.200       0.210\n",
       "sqft_basement     0.0001   5.17e-06     21.840      0.000       0.000       0.000\n",
       "yr_built         -0.0045   9.19e-05    -48.957      0.000      -0.005      -0.004\n",
       "zipcode          -0.0005   4.36e-05    -11.221      0.000      -0.001      -0.000\n",
       "lat               1.3088      0.014     92.027      0.000       1.281       1.337\n",
       "long             -0.1208      0.018     -6.834      0.000      -0.155      -0.086\n",
       "sqft_living15     0.0002   4.24e-06     39.782      0.000       0.000       0.000\n",
       "sqft_lot15     6.417e-07   8.87e-08      7.233      0.000    4.68e-07    8.16e-07\n",
       "==============================================================================\n",
       "Omnibus:                      550.541   Durbin-Watson:                   1.979\n",
       "Prob(Omnibus):                  0.000   Jarque-Bera (JB):              991.507\n",
       "Skew:                           0.208   Prob(JB):                    4.98e-216\n",
       "Kurtosis:                       3.963   Cond. No.                     2.14e+08\n",
       "==============================================================================\n",
       "\n",
       "Warnings:\n",
       "[1] Standard Errors assume that the covariance matrix of the errors is correctly specified.\n",
       "[2] The condition number is large, 2.14e+08. This might indicate that there are\n",
       "strong multicollinearity or other numerical problems.\n",
       "\"\"\""
      ]
     },
     "metadata": {},
     "output_type": "display_data"
    },
    {
     "data": {
      "image/png": "[encoded data removed]",
      "text/plain": [
       "<Figure size 720x720 with 2 Axes>"
      ]
     },
     "metadata": {
      "needs_background": "light"
     },
     "output_type": "display_data"
    }
   ],
   "source": [
    "df_ohe.model_and_plot('price')"
   ]
  },
  {
   "cell_type": "code",
   "execution_count": 25,
   "metadata": {
    "ExecuteTime": {
     "end_time": "2020-08-28T18:19:35.306368Z",
     "start_time": "2020-08-28T18:19:35.090342Z"
    }
   },
   "outputs": [
    {
     "data": {
      "text/html": [
       "<style  type=\"text/css\" >\n",
       "    #T_06c3aa8c_e95b_11ea_8da1_04d9f5827febrow0_col0 {\n",
       "            background-color:  #f7fcf5;\n",
       "            color:  #000000;\n",
       "        }    #T_06c3aa8c_e95b_11ea_8da1_04d9f5827febrow1_col0 {\n",
       "            background-color:  #006428;\n",
       "            color:  #f1f1f1;\n",
       "        }    #T_06c3aa8c_e95b_11ea_8da1_04d9f5827febrow2_col0 {\n",
       "            background-color:  #006b2b;\n",
       "            color:  #f1f1f1;\n",
       "        }    #T_06c3aa8c_e95b_11ea_8da1_04d9f5827febrow3_col0 {\n",
       "            background-color:  #00692a;\n",
       "            color:  #f1f1f1;\n",
       "        }    #T_06c3aa8c_e95b_11ea_8da1_04d9f5827febrow4_col0 {\n",
       "            background-color:  #00682a;\n",
       "            color:  #f1f1f1;\n",
       "        }    #T_06c3aa8c_e95b_11ea_8da1_04d9f5827febrow5_col0 {\n",
       "            background-color:  #006529;\n",
       "            color:  #f1f1f1;\n",
       "        }    #T_06c3aa8c_e95b_11ea_8da1_04d9f5827febrow6_col0 {\n",
       "            background-color:  #00441b;\n",
       "            color:  #f1f1f1;\n",
       "        }    #T_06c3aa8c_e95b_11ea_8da1_04d9f5827febrow7_col0 {\n",
       "            background-color:  #016e2d;\n",
       "            color:  #f1f1f1;\n",
       "        }    #T_06c3aa8c_e95b_11ea_8da1_04d9f5827febrow8_col0 {\n",
       "            background-color:  #006b2b;\n",
       "            color:  #f1f1f1;\n",
       "        }    #T_06c3aa8c_e95b_11ea_8da1_04d9f5827febrow9_col0 {\n",
       "            background-color:  #006b2b;\n",
       "            color:  #f1f1f1;\n",
       "        }    #T_06c3aa8c_e95b_11ea_8da1_04d9f5827febrow10_col0 {\n",
       "            background-color:  #006b2b;\n",
       "            color:  #f1f1f1;\n",
       "        }    #T_06c3aa8c_e95b_11ea_8da1_04d9f5827febrow11_col0 {\n",
       "            background-color:  #006b2b;\n",
       "            color:  #f1f1f1;\n",
       "        }    #T_06c3aa8c_e95b_11ea_8da1_04d9f5827febrow12_col0 {\n",
       "            background-color:  #006c2c;\n",
       "            color:  #f1f1f1;\n",
       "        }    #T_06c3aa8c_e95b_11ea_8da1_04d9f5827febrow13_col0 {\n",
       "            background-color:  #006b2b;\n",
       "            color:  #f1f1f1;\n",
       "        }</style><table id=\"T_06c3aa8c_e95b_11ea_8da1_04d9f5827feb\" ><thead>    <tr>        <th class=\"blank level0\" ></th>        <th class=\"col_heading level0 col0\" >Coefficients</th>    </tr></thead><tbody>\n",
       "                <tr>\n",
       "                        <th id=\"T_06c3aa8c_e95b_11ea_8da1_04d9f5827feblevel0_row0\" class=\"row_heading level0 row0\" >Intercept</th>\n",
       "                        <td id=\"T_06c3aa8c_e95b_11ea_8da1_04d9f5827febrow0_col0\" class=\"data row0 col0\" >-9.5308</td>\n",
       "            </tr>\n",
       "            <tr>\n",
       "                        <th id=\"T_06c3aa8c_e95b_11ea_8da1_04d9f5827feblevel0_row1\" class=\"row_heading level0 row1\" >bathrooms</th>\n",
       "                        <td id=\"T_06c3aa8c_e95b_11ea_8da1_04d9f5827febrow1_col0\" class=\"data row1 col0\" >0.208934</td>\n",
       "            </tr>\n",
       "            <tr>\n",
       "                        <th id=\"T_06c3aa8c_e95b_11ea_8da1_04d9f5827feblevel0_row2\" class=\"row_heading level0 row2\" >bedrooms</th>\n",
       "                        <td id=\"T_06c3aa8c_e95b_11ea_8da1_04d9f5827febrow2_col0\" class=\"data row2 col0\" >0.00241426</td>\n",
       "            </tr>\n",
       "            <tr>\n",
       "                        <th id=\"T_06c3aa8c_e95b_11ea_8da1_04d9f5827feblevel0_row3\" class=\"row_heading level0 row3\" >condition</th>\n",
       "                        <td id=\"T_06c3aa8c_e95b_11ea_8da1_04d9f5827febrow3_col0\" class=\"data row3 col0\" >0.055138</td>\n",
       "            </tr>\n",
       "            <tr>\n",
       "                        <th id=\"T_06c3aa8c_e95b_11ea_8da1_04d9f5827feblevel0_row4\" class=\"row_heading level0 row4\" >floors</th>\n",
       "                        <td id=\"T_06c3aa8c_e95b_11ea_8da1_04d9f5827febrow4_col0\" class=\"data row4 col0\" >0.106397</td>\n",
       "            </tr>\n",
       "            <tr>\n",
       "                        <th id=\"T_06c3aa8c_e95b_11ea_8da1_04d9f5827feblevel0_row5\" class=\"row_heading level0 row5\" >grade</th>\n",
       "                        <td id=\"T_06c3aa8c_e95b_11ea_8da1_04d9f5827febrow5_col0\" class=\"data row5 col0\" >0.204728</td>\n",
       "            </tr>\n",
       "            <tr>\n",
       "                        <th id=\"T_06c3aa8c_e95b_11ea_8da1_04d9f5827feblevel0_row6\" class=\"row_heading level0 row6\" >lat</th>\n",
       "                        <td id=\"T_06c3aa8c_e95b_11ea_8da1_04d9f5827febrow6_col0\" class=\"data row6 col0\" >1.30876</td>\n",
       "            </tr>\n",
       "            <tr>\n",
       "                        <th id=\"T_06c3aa8c_e95b_11ea_8da1_04d9f5827feblevel0_row7\" class=\"row_heading level0 row7\" >long</th>\n",
       "                        <td id=\"T_06c3aa8c_e95b_11ea_8da1_04d9f5827febrow7_col0\" class=\"data row7 col0\" >-0.120753</td>\n",
       "            </tr>\n",
       "            <tr>\n",
       "                        <th id=\"T_06c3aa8c_e95b_11ea_8da1_04d9f5827feblevel0_row8\" class=\"row_heading level0 row8\" >sqft_basement</th>\n",
       "                        <td id=\"T_06c3aa8c_e95b_11ea_8da1_04d9f5827febrow8_col0\" class=\"data row8 col0\" >0.000112994</td>\n",
       "            </tr>\n",
       "            <tr>\n",
       "                        <th id=\"T_06c3aa8c_e95b_11ea_8da1_04d9f5827feblevel0_row9\" class=\"row_heading level0 row9\" >sqft_living15</th>\n",
       "                        <td id=\"T_06c3aa8c_e95b_11ea_8da1_04d9f5827febrow9_col0\" class=\"data row9 col0\" >0.000168604</td>\n",
       "            </tr>\n",
       "            <tr>\n",
       "                        <th id=\"T_06c3aa8c_e95b_11ea_8da1_04d9f5827feblevel0_row10\" class=\"row_heading level0 row10\" >sqft_lot</th>\n",
       "                        <td id=\"T_06c3aa8c_e95b_11ea_8da1_04d9f5827febrow10_col0\" class=\"data row10 col0\" >-0.000322144</td>\n",
       "            </tr>\n",
       "            <tr>\n",
       "                        <th id=\"T_06c3aa8c_e95b_11ea_8da1_04d9f5827feblevel0_row11\" class=\"row_heading level0 row11\" >sqft_lot15</th>\n",
       "                        <td id=\"T_06c3aa8c_e95b_11ea_8da1_04d9f5827febrow11_col0\" class=\"data row11 col0\" >6.4173e-07</td>\n",
       "            </tr>\n",
       "            <tr>\n",
       "                        <th id=\"T_06c3aa8c_e95b_11ea_8da1_04d9f5827feblevel0_row12\" class=\"row_heading level0 row12\" >yr_built</th>\n",
       "                        <td id=\"T_06c3aa8c_e95b_11ea_8da1_04d9f5827febrow12_col0\" class=\"data row12 col0\" >-0.00449789</td>\n",
       "            </tr>\n",
       "            <tr>\n",
       "                        <th id=\"T_06c3aa8c_e95b_11ea_8da1_04d9f5827feblevel0_row13\" class=\"row_heading level0 row13\" >zipcode</th>\n",
       "                        <td id=\"T_06c3aa8c_e95b_11ea_8da1_04d9f5827febrow13_col0\" class=\"data row13 col0\" >-0.000489359</td>\n",
       "            </tr>\n",
       "    </tbody></table>"
      ],
      "text/plain": [
       "<pandas.io.formats.style.Styler at 0x2064e5fce10>"
      ]
     },
     "execution_count": 25,
     "metadata": {},
     "output_type": "execute_result"
    }
   ],
   "source": [
    "df_ohe.plot_coef()"
   ]
  },
  {
   "cell_type": "code",
   "execution_count": 26,
   "metadata": {
    "ExecuteTime": {
     "end_time": "2020-08-28T18:19:35.321368Z",
     "start_time": "2020-08-28T18:19:35.307369Z"
    }
   },
   "outputs": [
    {
     "data": {
      "text/plain": [
       "169"
      ]
     },
     "execution_count": 26,
     "metadata": {},
     "output_type": "execute_result"
    }
   ],
   "source": [
    "df_ohe.find_outliers_Z('price').sum()"
   ]
  },
  {
   "cell_type": "code",
   "execution_count": 27,
   "metadata": {
    "ExecuteTime": {
     "end_time": "2020-08-28T18:19:35.337368Z",
     "start_time": "2020-08-28T18:19:35.322368Z"
    }
   },
   "outputs": [
    {
     "data": {
      "text/plain": [
       "333"
      ]
     },
     "execution_count": 27,
     "metadata": {},
     "output_type": "execute_result"
    }
   ],
   "source": [
    "df_ohe.find_outliers_IQR('price').sum()"
   ]
  },
  {
   "cell_type": "code",
   "execution_count": 29,
   "metadata": {
    "ExecuteTime": {
     "end_time": "2020-08-28T18:19:41.382050Z",
     "start_time": "2020-08-28T18:19:41.376049Z"
    }
   },
   "outputs": [],
   "source": [
    "df_ohe = df_ohe[~df_ohe.find_outliers_IQR('price')]"
   ]
  },
  {
   "cell_type": "code",
   "execution_count": 31,
   "metadata": {
    "ExecuteTime": {
     "end_time": "2020-08-28T18:19:56.641009Z",
     "start_time": "2020-08-28T18:19:56.633009Z"
    }
   },
   "outputs": [],
   "source": [
    "df_ohe = MLFrame(df_ohe)"
   ]
  },
  {
   "cell_type": "code",
   "execution_count": 32,
   "metadata": {
    "ExecuteTime": {
     "end_time": "2020-08-28T18:19:57.449300Z",
     "start_time": "2020-08-28T18:19:57.190300Z"
    }
   },
   "outputs": [
    {
     "data": {
      "text/html": [
       "<table class=\"simpletable\">\n",
       "<caption>OLS Regression Results</caption>\n",
       "<tr>\n",
       "  <th>Dep. Variable:</th>          <td>price</td>      <th>  R-squared:         </th> <td>   0.724</td>\n",
       "</tr>\n",
       "<tr>\n",
       "  <th>Model:</th>                   <td>OLS</td>       <th>  Adj. R-squared:    </th> <td>   0.724</td>\n",
       "</tr>\n",
       "<tr>\n",
       "  <th>Method:</th>             <td>Least Squares</td>  <th>  F-statistic:       </th> <td>   4283.</td>\n",
       "</tr>\n",
       "<tr>\n",
       "  <th>Date:</th>             <td>Fri, 28 Aug 2020</td> <th>  Prob (F-statistic):</th>  <td>  0.00</td> \n",
       "</tr>\n",
       "<tr>\n",
       "  <th>Time:</th>                 <td>13:19:57</td>     <th>  Log-Likelihood:    </th> <td> -1240.3</td>\n",
       "</tr>\n",
       "<tr>\n",
       "  <th>No. Observations:</th>      <td> 21264</td>      <th>  AIC:               </th> <td>   2509.</td>\n",
       "</tr>\n",
       "<tr>\n",
       "  <th>Df Residuals:</th>          <td> 21250</td>      <th>  BIC:               </th> <td>   2620.</td>\n",
       "</tr>\n",
       "<tr>\n",
       "  <th>Df Model:</th>              <td>    13</td>      <th>                     </th>     <td> </td>   \n",
       "</tr>\n",
       "<tr>\n",
       "  <th>Covariance Type:</th>      <td>nonrobust</td>    <th>                     </th>     <td> </td>   \n",
       "</tr>\n",
       "</table>\n",
       "<table class=\"simpletable\">\n",
       "<tr>\n",
       "        <td></td>           <th>coef</th>     <th>std err</th>      <th>t</th>      <th>P>|t|</th>  <th>[0.025</th>    <th>0.975]</th>  \n",
       "</tr>\n",
       "<tr>\n",
       "  <th>Intercept</th>     <td>  -11.9256</td> <td>    3.813</td> <td>   -3.128</td> <td> 0.002</td> <td>  -19.399</td> <td>   -4.452</td>\n",
       "</tr>\n",
       "<tr>\n",
       "  <th>bedrooms</th>      <td>    0.0034</td> <td>    0.002</td> <td>    1.441</td> <td> 0.150</td> <td>   -0.001</td> <td>    0.008</td>\n",
       "</tr>\n",
       "<tr>\n",
       "  <th>bathrooms</th>     <td>    0.1992</td> <td>    0.008</td> <td>   26.183</td> <td> 0.000</td> <td>    0.184</td> <td>    0.214</td>\n",
       "</tr>\n",
       "<tr>\n",
       "  <th>sqft_lot</th>      <td>   -0.0051</td> <td>    0.003</td> <td>   -1.616</td> <td> 0.106</td> <td>   -0.011</td> <td>    0.001</td>\n",
       "</tr>\n",
       "<tr>\n",
       "  <th>floors</th>        <td>    0.1058</td> <td>    0.005</td> <td>   21.589</td> <td> 0.000</td> <td>    0.096</td> <td>    0.115</td>\n",
       "</tr>\n",
       "<tr>\n",
       "  <th>condition</th>     <td>    0.0529</td> <td>    0.003</td> <td>   17.680</td> <td> 0.000</td> <td>    0.047</td> <td>    0.059</td>\n",
       "</tr>\n",
       "<tr>\n",
       "  <th>grade</th>         <td>    0.1899</td> <td>    0.003</td> <td>   73.360</td> <td> 0.000</td> <td>    0.185</td> <td>    0.195</td>\n",
       "</tr>\n",
       "<tr>\n",
       "  <th>sqft_basement</th> <td>    0.0001</td> <td> 5.16e-06</td> <td>   20.280</td> <td> 0.000</td> <td> 9.45e-05</td> <td>    0.000</td>\n",
       "</tr>\n",
       "<tr>\n",
       "  <th>yr_built</th>      <td>   -0.0044</td> <td> 8.97e-05</td> <td>  -48.677</td> <td> 0.000</td> <td>   -0.005</td> <td>   -0.004</td>\n",
       "</tr>\n",
       "<tr>\n",
       "  <th>zipcode</th>       <td>   -0.0004</td> <td> 4.23e-05</td> <td>   -9.630</td> <td> 0.000</td> <td>   -0.000</td> <td>   -0.000</td>\n",
       "</tr>\n",
       "<tr>\n",
       "  <th>lat</th>           <td>    1.2939</td> <td>    0.014</td> <td>   94.303</td> <td> 0.000</td> <td>    1.267</td> <td>    1.321</td>\n",
       "</tr>\n",
       "<tr>\n",
       "  <th>long</th>          <td>   -0.0798</td> <td>    0.017</td> <td>   -4.670</td> <td> 0.000</td> <td>   -0.113</td> <td>   -0.046</td>\n",
       "</tr>\n",
       "<tr>\n",
       "  <th>sqft_living15</th> <td>    0.0002</td> <td> 4.18e-06</td> <td>   39.835</td> <td> 0.000</td> <td>    0.000</td> <td>    0.000</td>\n",
       "</tr>\n",
       "<tr>\n",
       "  <th>sqft_lot15</th>    <td> 7.518e-07</td> <td> 8.63e-08</td> <td>    8.710</td> <td> 0.000</td> <td> 5.83e-07</td> <td> 9.21e-07</td>\n",
       "</tr>\n",
       "</table>\n",
       "<table class=\"simpletable\">\n",
       "<tr>\n",
       "  <th>Omnibus:</th>       <td>383.780</td> <th>  Durbin-Watson:     </th> <td>   1.979</td> \n",
       "</tr>\n",
       "<tr>\n",
       "  <th>Prob(Omnibus):</th> <td> 0.000</td>  <th>  Jarque-Bera (JB):  </th> <td> 648.425</td> \n",
       "</tr>\n",
       "<tr>\n",
       "  <th>Skew:</th>          <td> 0.157</td>  <th>  Prob(JB):          </th> <td>1.57e-141</td>\n",
       "</tr>\n",
       "<tr>\n",
       "  <th>Kurtosis:</th>      <td> 3.795</td>  <th>  Cond. No.          </th> <td>2.15e+08</td> \n",
       "</tr>\n",
       "</table><br/><br/>Warnings:<br/>[1] Standard Errors assume that the covariance matrix of the errors is correctly specified.<br/>[2] The condition number is large, 2.15e+08. This might indicate that there are<br/>strong multicollinearity or other numerical problems."
      ],
      "text/plain": [
       "<class 'statsmodels.iolib.summary.Summary'>\n",
       "\"\"\"\n",
       "                            OLS Regression Results                            \n",
       "==============================================================================\n",
       "Dep. Variable:                  price   R-squared:                       0.724\n",
       "Model:                            OLS   Adj. R-squared:                  0.724\n",
       "Method:                 Least Squares   F-statistic:                     4283.\n",
       "Date:                Fri, 28 Aug 2020   Prob (F-statistic):               0.00\n",
       "Time:                        13:19:57   Log-Likelihood:                -1240.3\n",
       "No. Observations:               21264   AIC:                             2509.\n",
       "Df Residuals:                   21250   BIC:                             2620.\n",
       "Df Model:                          13                                         \n",
       "Covariance Type:            nonrobust                                         \n",
       "=================================================================================\n",
       "                    coef    std err          t      P>|t|      [0.025      0.975]\n",
       "---------------------------------------------------------------------------------\n",
       "Intercept       -11.9256      3.813     -3.128      0.002     -19.399      -4.452\n",
       "bedrooms          0.0034      0.002      1.441      0.150      -0.001       0.008\n",
       "bathrooms         0.1992      0.008     26.183      0.000       0.184       0.214\n",
       "sqft_lot         -0.0051      0.003     -1.616      0.106      -0.011       0.001\n",
       "floors            0.1058      0.005     21.589      0.000       0.096       0.115\n",
       "condition         0.0529      0.003     17.680      0.000       0.047       0.059\n",
       "grade             0.1899      0.003     73.360      0.000       0.185       0.195\n",
       "sqft_basement     0.0001   5.16e-06     20.280      0.000    9.45e-05       0.000\n",
       "yr_built         -0.0044   8.97e-05    -48.677      0.000      -0.005      -0.004\n",
       "zipcode          -0.0004   4.23e-05     -9.630      0.000      -0.000      -0.000\n",
       "lat               1.2939      0.014     94.303      0.000       1.267       1.321\n",
       "long             -0.0798      0.017     -4.670      0.000      -0.113      -0.046\n",
       "sqft_living15     0.0002   4.18e-06     39.835      0.000       0.000       0.000\n",
       "sqft_lot15     7.518e-07   8.63e-08      8.710      0.000    5.83e-07    9.21e-07\n",
       "==============================================================================\n",
       "Omnibus:                      383.780   Durbin-Watson:                   1.979\n",
       "Prob(Omnibus):                  0.000   Jarque-Bera (JB):              648.425\n",
       "Skew:                           0.157   Prob(JB):                    1.57e-141\n",
       "Kurtosis:                       3.795   Cond. No.                     2.15e+08\n",
       "==============================================================================\n",
       "\n",
       "Warnings:\n",
       "[1] Standard Errors assume that the covariance matrix of the errors is correctly specified.\n",
       "[2] The condition number is large, 2.15e+08. This might indicate that there are\n",
       "strong multicollinearity or other numerical problems.\n",
       "\"\"\""
      ]
     },
     "metadata": {},
     "output_type": "display_data"
    },
    {
     "data": {
      "image/png": "[encoded data removed]",
      "text/plain": [
       "<Figure size 720x720 with 2 Axes>"
      ]
     },
     "metadata": {
      "needs_background": "light"
     },
     "output_type": "display_data"
    }
   ],
   "source": [
    "df_ohe.model_and_plot('price')"
   ]
  },
  {
   "cell_type": "code",
   "execution_count": 34,
   "metadata": {
    "ExecuteTime": {
     "end_time": "2020-08-28T18:21:05.396950Z",
     "start_time": "2020-08-28T18:21:05.268694Z"
    }
   },
   "outputs": [
    {
     "name": "stderr",
     "output_type": "stream",
     "text": [
      "C:\\Users\\12147\\anaconda3\\envs\\learn-env\\lib\\site-packages\\numpy\\core\\fromnumeric.py:2580: FutureWarning: Method .ptp is deprecated and will be removed in a future version. Use numpy.ptp instead.\n",
      "  return ptp(axis=axis, out=out, **kwargs)\n"
     ]
    },
    {
     "data": {
      "text/plain": [
       "const           4695562.824\n",
       "bedrooms              1.482\n",
       "bathrooms             2.795\n",
       "sqft_lot              2.584\n",
       "floors                2.251\n",
       "condition             1.217\n",
       "grade                 2.720\n",
       "sqft_basement         1.561\n",
       "yr_built              2.232\n",
       "zipcode               1.651\n",
       "lat                   1.177\n",
       "long                  1.883\n",
       "sqft_living15         2.482\n",
       "sqft_lot15            1.777\n",
       "dtype: float64"
      ]
     },
     "execution_count": 34,
     "metadata": {},
     "output_type": "execute_result"
    }
   ],
   "source": [
    "df_ohe.get_vif('price')"
   ]
  },
  {
   "cell_type": "code",
   "execution_count": null,
   "metadata": {},
   "outputs": [],
   "source": []
  }
 ],
 "metadata": {
  "kernelspec": {
   "display_name": "Python 3",
   "language": "python",
   "name": "python3"
  },
  "language_info": {
   "codemirror_mode": {
    "name": "ipython",
    "version": 3
   },
   "file_extension": ".py",
   "mimetype": "text/x-python",
   "name": "python",
   "nbconvert_exporter": "python",
   "pygments_lexer": "ipython3",
   "version": "3.6.9"
  },
  "toc": {
   "base_numbering": 1,
   "nav_menu": {},
   "number_sections": true,
   "sideBar": true,
   "skip_h1_title": false,
   "title_cell": "Table of Contents",
   "title_sidebar": "Contents",
   "toc_cell": false,
   "toc_position": {},
   "toc_section_display": true,
   "toc_window_display": false
  }
 },
 "nbformat": 4,
 "nbformat_minor": 2
}
